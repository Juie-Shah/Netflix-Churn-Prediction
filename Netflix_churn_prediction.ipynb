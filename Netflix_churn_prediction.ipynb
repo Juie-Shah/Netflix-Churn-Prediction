{
  "nbformat": 4,
  "nbformat_minor": 0,
  "metadata": {
    "colab": {
      "provenance": []
    },
    "kernelspec": {
      "name": "python3",
      "display_name": "Python 3"
    },
    "language_info": {
      "name": "python"
    }
  },
  "cells": [
    {
      "cell_type": "code",
      "execution_count": 1,
      "metadata": {
        "id": "R2PGc7mw9UWG"
      },
      "outputs": [],
      "source": [
        "import numpy as np\n",
        "import pandas as pd\n",
        "import matplotlib.pyplot as plt\n",
        "import seaborn as sns"
      ]
    },
    {
      "cell_type": "code",
      "source": [
        "from sklearn.preprocessing import LabelEncoder\n",
        "from imblearn.over_sampling import SMOTE #synthetic minority oversampling technique\n",
        "from sklearn.model_selection import train_test_split, cross_val_score\n",
        "from sklearn.tree import DecisionTreeClassifier\n",
        "from sklearn.ensemble import RandomForestClassifier\n",
        "import pickle"
      ],
      "metadata": {
        "id": "dhFkgjwt92Yl"
      },
      "execution_count": 2,
      "outputs": []
    },
    {
      "cell_type": "code",
      "source": [
        "from xgboost import XGBClassifier\n",
        "#XGBOOST IS EXTREME GRADIENT BOOSTING, advanced ML algo designed for efficiency,\n",
        "#speed and high performance"
      ],
      "metadata": {
        "id": "P1ehhRK292Vh"
      },
      "execution_count": 3,
      "outputs": []
    },
    {
      "cell_type": "markdown",
      "source": [
        "It is an optimized implementation of Gradient Boosting and is a type of ensemble learning method that combines multiple weak models to form a stronger model.\n",
        "\n",
        "XGBoost uses decision trees as its base learners and combines them sequentially to improve the model’s performance. Each new tree is trained to correct the errors made by the previous tree and this process is called boosting.\n",
        "It has built-in parallel processing to train models on large datasets quickly. XGBoost also supports customizations allowing users to adjust model parameters to optimize performance based on the specific problem.\n"
      ],
      "metadata": {
        "id": "BXh0NLX398q8"
      }
    },
    {
      "cell_type": "code",
      "source": [
        "from sklearn.metrics import accuracy_score, confusion_matrix, classification_report"
      ],
      "metadata": {
        "id": "tvNKBXjJ92R8"
      },
      "execution_count": 4,
      "outputs": []
    },
    {
      "cell_type": "code",
      "source": [
        "#loading data\n",
        "df = pd.read_csv(\"/content/netflix_customer_churn.csv\")"
      ],
      "metadata": {
        "id": "Ei5U3qb992P1"
      },
      "execution_count": 5,
      "outputs": []
    },
    {
      "cell_type": "code",
      "source": [
        "pd.set_option(\"display.max_columns\", None)"
      ],
      "metadata": {
        "id": "2nS6TYrk92L2"
      },
      "execution_count": 6,
      "outputs": []
    },
    {
      "cell_type": "code",
      "source": [
        "df.head()"
      ],
      "metadata": {
        "colab": {
          "base_uri": "https://localhost:8080/",
          "height": 469
        },
        "id": "HNYlK0b292KV",
        "outputId": "f90ea1e7-07b8-4bdf-8eb9-66c043d265db"
      },
      "execution_count": 7,
      "outputs": [
        {
          "output_type": "execute_result",
          "data": {
            "text/plain": [
              "                            customer_id  age  gender subscription_type  \\\n",
              "0  a9b75100-82a8-427a-a208-72f24052884a   51   Other             Basic   \n",
              "1  49a5dfd9-7e69-4022-a6ad-0a1b9767fb5b   47   Other          Standard   \n",
              "2  4d71f6ce-fca9-4ff7-8afa-197ac24de14b   27  Female          Standard   \n",
              "3  d3c72c38-631b-4f9e-8a0e-de103cad1a7d   53   Other           Premium   \n",
              "4  4e265c34-103a-4dbb-9553-76c9aa47e946   56   Other          Standard   \n",
              "\n",
              "   watch_hours  last_login_days   region  device  monthly_fee  churned  \\\n",
              "0        14.73               29   Africa      TV         8.99        1   \n",
              "1         0.70               19   Europe  Mobile        13.99        1   \n",
              "2        16.32               10     Asia      TV        13.99        0   \n",
              "3         4.51               12  Oceania      TV        17.99        1   \n",
              "4         1.89               13   Africa  Mobile        13.99        1   \n",
              "\n",
              "  payment_method  number_of_profiles  avg_watch_time_per_day favorite_genre  \n",
              "0      Gift Card                   1                    0.49         Action  \n",
              "1      Gift Card                   5                    0.03         Sci-Fi  \n",
              "2         Crypto                   2                    1.48          Drama  \n",
              "3         Crypto                   2                    0.35         Horror  \n",
              "4         Crypto                   2                    0.13         Action  "
            ],
            "text/html": [
              "\n",
              "  <div id=\"df-12abd807-0b4e-4e58-bad9-4aba60b9d468\" class=\"colab-df-container\">\n",
              "    <div>\n",
              "<style scoped>\n",
              "    .dataframe tbody tr th:only-of-type {\n",
              "        vertical-align: middle;\n",
              "    }\n",
              "\n",
              "    .dataframe tbody tr th {\n",
              "        vertical-align: top;\n",
              "    }\n",
              "\n",
              "    .dataframe thead th {\n",
              "        text-align: right;\n",
              "    }\n",
              "</style>\n",
              "<table border=\"1\" class=\"dataframe\">\n",
              "  <thead>\n",
              "    <tr style=\"text-align: right;\">\n",
              "      <th></th>\n",
              "      <th>customer_id</th>\n",
              "      <th>age</th>\n",
              "      <th>gender</th>\n",
              "      <th>subscription_type</th>\n",
              "      <th>watch_hours</th>\n",
              "      <th>last_login_days</th>\n",
              "      <th>region</th>\n",
              "      <th>device</th>\n",
              "      <th>monthly_fee</th>\n",
              "      <th>churned</th>\n",
              "      <th>payment_method</th>\n",
              "      <th>number_of_profiles</th>\n",
              "      <th>avg_watch_time_per_day</th>\n",
              "      <th>favorite_genre</th>\n",
              "    </tr>\n",
              "  </thead>\n",
              "  <tbody>\n",
              "    <tr>\n",
              "      <th>0</th>\n",
              "      <td>a9b75100-82a8-427a-a208-72f24052884a</td>\n",
              "      <td>51</td>\n",
              "      <td>Other</td>\n",
              "      <td>Basic</td>\n",
              "      <td>14.73</td>\n",
              "      <td>29</td>\n",
              "      <td>Africa</td>\n",
              "      <td>TV</td>\n",
              "      <td>8.99</td>\n",
              "      <td>1</td>\n",
              "      <td>Gift Card</td>\n",
              "      <td>1</td>\n",
              "      <td>0.49</td>\n",
              "      <td>Action</td>\n",
              "    </tr>\n",
              "    <tr>\n",
              "      <th>1</th>\n",
              "      <td>49a5dfd9-7e69-4022-a6ad-0a1b9767fb5b</td>\n",
              "      <td>47</td>\n",
              "      <td>Other</td>\n",
              "      <td>Standard</td>\n",
              "      <td>0.70</td>\n",
              "      <td>19</td>\n",
              "      <td>Europe</td>\n",
              "      <td>Mobile</td>\n",
              "      <td>13.99</td>\n",
              "      <td>1</td>\n",
              "      <td>Gift Card</td>\n",
              "      <td>5</td>\n",
              "      <td>0.03</td>\n",
              "      <td>Sci-Fi</td>\n",
              "    </tr>\n",
              "    <tr>\n",
              "      <th>2</th>\n",
              "      <td>4d71f6ce-fca9-4ff7-8afa-197ac24de14b</td>\n",
              "      <td>27</td>\n",
              "      <td>Female</td>\n",
              "      <td>Standard</td>\n",
              "      <td>16.32</td>\n",
              "      <td>10</td>\n",
              "      <td>Asia</td>\n",
              "      <td>TV</td>\n",
              "      <td>13.99</td>\n",
              "      <td>0</td>\n",
              "      <td>Crypto</td>\n",
              "      <td>2</td>\n",
              "      <td>1.48</td>\n",
              "      <td>Drama</td>\n",
              "    </tr>\n",
              "    <tr>\n",
              "      <th>3</th>\n",
              "      <td>d3c72c38-631b-4f9e-8a0e-de103cad1a7d</td>\n",
              "      <td>53</td>\n",
              "      <td>Other</td>\n",
              "      <td>Premium</td>\n",
              "      <td>4.51</td>\n",
              "      <td>12</td>\n",
              "      <td>Oceania</td>\n",
              "      <td>TV</td>\n",
              "      <td>17.99</td>\n",
              "      <td>1</td>\n",
              "      <td>Crypto</td>\n",
              "      <td>2</td>\n",
              "      <td>0.35</td>\n",
              "      <td>Horror</td>\n",
              "    </tr>\n",
              "    <tr>\n",
              "      <th>4</th>\n",
              "      <td>4e265c34-103a-4dbb-9553-76c9aa47e946</td>\n",
              "      <td>56</td>\n",
              "      <td>Other</td>\n",
              "      <td>Standard</td>\n",
              "      <td>1.89</td>\n",
              "      <td>13</td>\n",
              "      <td>Africa</td>\n",
              "      <td>Mobile</td>\n",
              "      <td>13.99</td>\n",
              "      <td>1</td>\n",
              "      <td>Crypto</td>\n",
              "      <td>2</td>\n",
              "      <td>0.13</td>\n",
              "      <td>Action</td>\n",
              "    </tr>\n",
              "  </tbody>\n",
              "</table>\n",
              "</div>\n",
              "    <div class=\"colab-df-buttons\">\n",
              "\n",
              "  <div class=\"colab-df-container\">\n",
              "    <button class=\"colab-df-convert\" onclick=\"convertToInteractive('df-12abd807-0b4e-4e58-bad9-4aba60b9d468')\"\n",
              "            title=\"Convert this dataframe to an interactive table.\"\n",
              "            style=\"display:none;\">\n",
              "\n",
              "  <svg xmlns=\"http://www.w3.org/2000/svg\" height=\"24px\" viewBox=\"0 -960 960 960\">\n",
              "    <path d=\"M120-120v-720h720v720H120Zm60-500h600v-160H180v160Zm220 220h160v-160H400v160Zm0 220h160v-160H400v160ZM180-400h160v-160H180v160Zm440 0h160v-160H620v160ZM180-180h160v-160H180v160Zm440 0h160v-160H620v160Z\"/>\n",
              "  </svg>\n",
              "    </button>\n",
              "\n",
              "  <style>\n",
              "    .colab-df-container {\n",
              "      display:flex;\n",
              "      gap: 12px;\n",
              "    }\n",
              "\n",
              "    .colab-df-convert {\n",
              "      background-color: #E8F0FE;\n",
              "      border: none;\n",
              "      border-radius: 50%;\n",
              "      cursor: pointer;\n",
              "      display: none;\n",
              "      fill: #1967D2;\n",
              "      height: 32px;\n",
              "      padding: 0 0 0 0;\n",
              "      width: 32px;\n",
              "    }\n",
              "\n",
              "    .colab-df-convert:hover {\n",
              "      background-color: #E2EBFA;\n",
              "      box-shadow: 0px 1px 2px rgba(60, 64, 67, 0.3), 0px 1px 3px 1px rgba(60, 64, 67, 0.15);\n",
              "      fill: #174EA6;\n",
              "    }\n",
              "\n",
              "    .colab-df-buttons div {\n",
              "      margin-bottom: 4px;\n",
              "    }\n",
              "\n",
              "    [theme=dark] .colab-df-convert {\n",
              "      background-color: #3B4455;\n",
              "      fill: #D2E3FC;\n",
              "    }\n",
              "\n",
              "    [theme=dark] .colab-df-convert:hover {\n",
              "      background-color: #434B5C;\n",
              "      box-shadow: 0px 1px 3px 1px rgba(0, 0, 0, 0.15);\n",
              "      filter: drop-shadow(0px 1px 2px rgba(0, 0, 0, 0.3));\n",
              "      fill: #FFFFFF;\n",
              "    }\n",
              "  </style>\n",
              "\n",
              "    <script>\n",
              "      const buttonEl =\n",
              "        document.querySelector('#df-12abd807-0b4e-4e58-bad9-4aba60b9d468 button.colab-df-convert');\n",
              "      buttonEl.style.display =\n",
              "        google.colab.kernel.accessAllowed ? 'block' : 'none';\n",
              "\n",
              "      async function convertToInteractive(key) {\n",
              "        const element = document.querySelector('#df-12abd807-0b4e-4e58-bad9-4aba60b9d468');\n",
              "        const dataTable =\n",
              "          await google.colab.kernel.invokeFunction('convertToInteractive',\n",
              "                                                    [key], {});\n",
              "        if (!dataTable) return;\n",
              "\n",
              "        const docLinkHtml = 'Like what you see? Visit the ' +\n",
              "          '<a target=\"_blank\" href=https://colab.research.google.com/notebooks/data_table.ipynb>data table notebook</a>'\n",
              "          + ' to learn more about interactive tables.';\n",
              "        element.innerHTML = '';\n",
              "        dataTable['output_type'] = 'display_data';\n",
              "        await google.colab.output.renderOutput(dataTable, element);\n",
              "        const docLink = document.createElement('div');\n",
              "        docLink.innerHTML = docLinkHtml;\n",
              "        element.appendChild(docLink);\n",
              "      }\n",
              "    </script>\n",
              "  </div>\n",
              "\n",
              "\n",
              "    <div id=\"df-51e7f740-4880-4fb0-8c21-9b2730c12d89\">\n",
              "      <button class=\"colab-df-quickchart\" onclick=\"quickchart('df-51e7f740-4880-4fb0-8c21-9b2730c12d89')\"\n",
              "                title=\"Suggest charts\"\n",
              "                style=\"display:none;\">\n",
              "\n",
              "<svg xmlns=\"http://www.w3.org/2000/svg\" height=\"24px\"viewBox=\"0 0 24 24\"\n",
              "     width=\"24px\">\n",
              "    <g>\n",
              "        <path d=\"M19 3H5c-1.1 0-2 .9-2 2v14c0 1.1.9 2 2 2h14c1.1 0 2-.9 2-2V5c0-1.1-.9-2-2-2zM9 17H7v-7h2v7zm4 0h-2V7h2v10zm4 0h-2v-4h2v4z\"/>\n",
              "    </g>\n",
              "</svg>\n",
              "      </button>\n",
              "\n",
              "<style>\n",
              "  .colab-df-quickchart {\n",
              "      --bg-color: #E8F0FE;\n",
              "      --fill-color: #1967D2;\n",
              "      --hover-bg-color: #E2EBFA;\n",
              "      --hover-fill-color: #174EA6;\n",
              "      --disabled-fill-color: #AAA;\n",
              "      --disabled-bg-color: #DDD;\n",
              "  }\n",
              "\n",
              "  [theme=dark] .colab-df-quickchart {\n",
              "      --bg-color: #3B4455;\n",
              "      --fill-color: #D2E3FC;\n",
              "      --hover-bg-color: #434B5C;\n",
              "      --hover-fill-color: #FFFFFF;\n",
              "      --disabled-bg-color: #3B4455;\n",
              "      --disabled-fill-color: #666;\n",
              "  }\n",
              "\n",
              "  .colab-df-quickchart {\n",
              "    background-color: var(--bg-color);\n",
              "    border: none;\n",
              "    border-radius: 50%;\n",
              "    cursor: pointer;\n",
              "    display: none;\n",
              "    fill: var(--fill-color);\n",
              "    height: 32px;\n",
              "    padding: 0;\n",
              "    width: 32px;\n",
              "  }\n",
              "\n",
              "  .colab-df-quickchart:hover {\n",
              "    background-color: var(--hover-bg-color);\n",
              "    box-shadow: 0 1px 2px rgba(60, 64, 67, 0.3), 0 1px 3px 1px rgba(60, 64, 67, 0.15);\n",
              "    fill: var(--button-hover-fill-color);\n",
              "  }\n",
              "\n",
              "  .colab-df-quickchart-complete:disabled,\n",
              "  .colab-df-quickchart-complete:disabled:hover {\n",
              "    background-color: var(--disabled-bg-color);\n",
              "    fill: var(--disabled-fill-color);\n",
              "    box-shadow: none;\n",
              "  }\n",
              "\n",
              "  .colab-df-spinner {\n",
              "    border: 2px solid var(--fill-color);\n",
              "    border-color: transparent;\n",
              "    border-bottom-color: var(--fill-color);\n",
              "    animation:\n",
              "      spin 1s steps(1) infinite;\n",
              "  }\n",
              "\n",
              "  @keyframes spin {\n",
              "    0% {\n",
              "      border-color: transparent;\n",
              "      border-bottom-color: var(--fill-color);\n",
              "      border-left-color: var(--fill-color);\n",
              "    }\n",
              "    20% {\n",
              "      border-color: transparent;\n",
              "      border-left-color: var(--fill-color);\n",
              "      border-top-color: var(--fill-color);\n",
              "    }\n",
              "    30% {\n",
              "      border-color: transparent;\n",
              "      border-left-color: var(--fill-color);\n",
              "      border-top-color: var(--fill-color);\n",
              "      border-right-color: var(--fill-color);\n",
              "    }\n",
              "    40% {\n",
              "      border-color: transparent;\n",
              "      border-right-color: var(--fill-color);\n",
              "      border-top-color: var(--fill-color);\n",
              "    }\n",
              "    60% {\n",
              "      border-color: transparent;\n",
              "      border-right-color: var(--fill-color);\n",
              "    }\n",
              "    80% {\n",
              "      border-color: transparent;\n",
              "      border-right-color: var(--fill-color);\n",
              "      border-bottom-color: var(--fill-color);\n",
              "    }\n",
              "    90% {\n",
              "      border-color: transparent;\n",
              "      border-bottom-color: var(--fill-color);\n",
              "    }\n",
              "  }\n",
              "</style>\n",
              "\n",
              "      <script>\n",
              "        async function quickchart(key) {\n",
              "          const quickchartButtonEl =\n",
              "            document.querySelector('#' + key + ' button');\n",
              "          quickchartButtonEl.disabled = true;  // To prevent multiple clicks.\n",
              "          quickchartButtonEl.classList.add('colab-df-spinner');\n",
              "          try {\n",
              "            const charts = await google.colab.kernel.invokeFunction(\n",
              "                'suggestCharts', [key], {});\n",
              "          } catch (error) {\n",
              "            console.error('Error during call to suggestCharts:', error);\n",
              "          }\n",
              "          quickchartButtonEl.classList.remove('colab-df-spinner');\n",
              "          quickchartButtonEl.classList.add('colab-df-quickchart-complete');\n",
              "        }\n",
              "        (() => {\n",
              "          let quickchartButtonEl =\n",
              "            document.querySelector('#df-51e7f740-4880-4fb0-8c21-9b2730c12d89 button');\n",
              "          quickchartButtonEl.style.display =\n",
              "            google.colab.kernel.accessAllowed ? 'block' : 'none';\n",
              "        })();\n",
              "      </script>\n",
              "    </div>\n",
              "\n",
              "    </div>\n",
              "  </div>\n"
            ],
            "application/vnd.google.colaboratory.intrinsic+json": {
              "type": "dataframe",
              "variable_name": "df",
              "summary": "{\n  \"name\": \"df\",\n  \"rows\": 5000,\n  \"fields\": [\n    {\n      \"column\": \"customer_id\",\n      \"properties\": {\n        \"dtype\": \"string\",\n        \"num_unique_values\": 5000,\n        \"samples\": [\n          \"815bed6b-02ad-465b-9f68-c07c508524ce\",\n          \"2f55007a-9682-4109-8431-2fa060e85673\",\n          \"89931699-5ba5-434a-8dca-32e18d7dbd4b\"\n        ],\n        \"semantic_type\": \"\",\n        \"description\": \"\"\n      }\n    },\n    {\n      \"column\": \"age\",\n      \"properties\": {\n        \"dtype\": \"number\",\n        \"std\": 15,\n        \"min\": 18,\n        \"max\": 70,\n        \"num_unique_values\": 53,\n        \"samples\": [\n          55,\n          41,\n          33\n        ],\n        \"semantic_type\": \"\",\n        \"description\": \"\"\n      }\n    },\n    {\n      \"column\": \"gender\",\n      \"properties\": {\n        \"dtype\": \"category\",\n        \"num_unique_values\": 3,\n        \"samples\": [\n          \"Other\",\n          \"Female\",\n          \"Male\"\n        ],\n        \"semantic_type\": \"\",\n        \"description\": \"\"\n      }\n    },\n    {\n      \"column\": \"subscription_type\",\n      \"properties\": {\n        \"dtype\": \"category\",\n        \"num_unique_values\": 3,\n        \"samples\": [\n          \"Basic\",\n          \"Standard\",\n          \"Premium\"\n        ],\n        \"semantic_type\": \"\",\n        \"description\": \"\"\n      }\n    },\n    {\n      \"column\": \"watch_hours\",\n      \"properties\": {\n        \"dtype\": \"number\",\n        \"std\": 12.014653647024184,\n        \"min\": 0.01,\n        \"max\": 110.4,\n        \"num_unique_values\": 2343,\n        \"samples\": [\n          6.71,\n          5.11,\n          1.22\n        ],\n        \"semantic_type\": \"\",\n        \"description\": \"\"\n      }\n    },\n    {\n      \"column\": \"last_login_days\",\n      \"properties\": {\n        \"dtype\": \"number\",\n        \"std\": 17,\n        \"min\": 0,\n        \"max\": 60,\n        \"num_unique_values\": 61,\n        \"samples\": [\n          29,\n          26,\n          2\n        ],\n        \"semantic_type\": \"\",\n        \"description\": \"\"\n      }\n    },\n    {\n      \"column\": \"region\",\n      \"properties\": {\n        \"dtype\": \"category\",\n        \"num_unique_values\": 6,\n        \"samples\": [\n          \"Africa\",\n          \"Europe\",\n          \"North America\"\n        ],\n        \"semantic_type\": \"\",\n        \"description\": \"\"\n      }\n    },\n    {\n      \"column\": \"device\",\n      \"properties\": {\n        \"dtype\": \"category\",\n        \"num_unique_values\": 5,\n        \"samples\": [\n          \"Mobile\",\n          \"Tablet\",\n          \"Laptop\"\n        ],\n        \"semantic_type\": \"\",\n        \"description\": \"\"\n      }\n    },\n    {\n      \"column\": \"monthly_fee\",\n      \"properties\": {\n        \"dtype\": \"number\",\n        \"std\": 3.69206212089409,\n        \"min\": 8.99,\n        \"max\": 17.99,\n        \"num_unique_values\": 3,\n        \"samples\": [\n          8.99,\n          13.99,\n          17.99\n        ],\n        \"semantic_type\": \"\",\n        \"description\": \"\"\n      }\n    },\n    {\n      \"column\": \"churned\",\n      \"properties\": {\n        \"dtype\": \"number\",\n        \"std\": 0,\n        \"min\": 0,\n        \"max\": 1,\n        \"num_unique_values\": 2,\n        \"samples\": [\n          0,\n          1\n        ],\n        \"semantic_type\": \"\",\n        \"description\": \"\"\n      }\n    },\n    {\n      \"column\": \"payment_method\",\n      \"properties\": {\n        \"dtype\": \"category\",\n        \"num_unique_values\": 5,\n        \"samples\": [\n          \"Crypto\",\n          \"Credit Card\"\n        ],\n        \"semantic_type\": \"\",\n        \"description\": \"\"\n      }\n    },\n    {\n      \"column\": \"number_of_profiles\",\n      \"properties\": {\n        \"dtype\": \"number\",\n        \"std\": 1,\n        \"min\": 1,\n        \"max\": 5,\n        \"num_unique_values\": 5,\n        \"samples\": [\n          5,\n          4\n        ],\n        \"semantic_type\": \"\",\n        \"description\": \"\"\n      }\n    },\n    {\n      \"column\": \"avg_watch_time_per_day\",\n      \"properties\": {\n        \"dtype\": \"number\",\n        \"std\": 2.619824325388844,\n        \"min\": 0.0,\n        \"max\": 98.42,\n        \"num_unique_values\": 505,\n        \"samples\": [\n          11.75,\n          1.51\n        ],\n        \"semantic_type\": \"\",\n        \"description\": \"\"\n      }\n    },\n    {\n      \"column\": \"favorite_genre\",\n      \"properties\": {\n        \"dtype\": \"category\",\n        \"num_unique_values\": 7,\n        \"samples\": [\n          \"Action\",\n          \"Sci-Fi\"\n        ],\n        \"semantic_type\": \"\",\n        \"description\": \"\"\n      }\n    }\n  ]\n}"
            }
          },
          "metadata": {},
          "execution_count": 7
        }
      ]
    },
    {
      "cell_type": "code",
      "source": [
        "df.shape"
      ],
      "metadata": {
        "colab": {
          "base_uri": "https://localhost:8080/"
        },
        "id": "ooE3aefl92HL",
        "outputId": "2d14068a-13ee-4898-e3cf-4b98c8feebf9"
      },
      "execution_count": 8,
      "outputs": [
        {
          "output_type": "execute_result",
          "data": {
            "text/plain": [
              "(5000, 14)"
            ]
          },
          "metadata": {},
          "execution_count": 8
        }
      ]
    },
    {
      "cell_type": "code",
      "source": [
        "df.info()"
      ],
      "metadata": {
        "colab": {
          "base_uri": "https://localhost:8080/"
        },
        "id": "mOpBfd6r92Et",
        "outputId": "1d18216c-f467-4c7b-fbae-30369ca8fbfd"
      },
      "execution_count": 9,
      "outputs": [
        {
          "output_type": "stream",
          "name": "stdout",
          "text": [
            "<class 'pandas.core.frame.DataFrame'>\n",
            "RangeIndex: 5000 entries, 0 to 4999\n",
            "Data columns (total 14 columns):\n",
            " #   Column                  Non-Null Count  Dtype  \n",
            "---  ------                  --------------  -----  \n",
            " 0   customer_id             5000 non-null   object \n",
            " 1   age                     5000 non-null   int64  \n",
            " 2   gender                  5000 non-null   object \n",
            " 3   subscription_type       5000 non-null   object \n",
            " 4   watch_hours             5000 non-null   float64\n",
            " 5   last_login_days         5000 non-null   int64  \n",
            " 6   region                  5000 non-null   object \n",
            " 7   device                  5000 non-null   object \n",
            " 8   monthly_fee             5000 non-null   float64\n",
            " 9   churned                 5000 non-null   int64  \n",
            " 10  payment_method          5000 non-null   object \n",
            " 11  number_of_profiles      5000 non-null   int64  \n",
            " 12  avg_watch_time_per_day  5000 non-null   float64\n",
            " 13  favorite_genre          5000 non-null   object \n",
            "dtypes: float64(3), int64(4), object(7)\n",
            "memory usage: 547.0+ KB\n"
          ]
        }
      ]
    },
    {
      "cell_type": "code",
      "source": [
        "#dropping customer id as its not required for medelling\n",
        "df = df.drop(columns = [\"customer_id\"])"
      ],
      "metadata": {
        "id": "O1EdvzFM92A6"
      },
      "execution_count": 10,
      "outputs": []
    },
    {
      "cell_type": "code",
      "source": [
        "for col in df.columns:\n",
        "  print(col, df[col].unique())\n",
        "  print('-'*50)"
      ],
      "metadata": {
        "colab": {
          "base_uri": "https://localhost:8080/"
        },
        "id": "UzJsXY1A91-5",
        "outputId": "bc99e42b-e949-4a70-a6a0-7a9ab60954bc"
      },
      "execution_count": 11,
      "outputs": [
        {
          "output_type": "stream",
          "name": "stdout",
          "text": [
            "age [51 47 27 53 56 58 48 45 32 26 28 49 39 46 68 21 60 70 36 55 24 30 69 67\n",
            " 23 57 35 22 34 19 25 54 31 42 63 66 38 65 43 64 62 41 18 61 37 20 50 33\n",
            " 59 29 52 40 44]\n",
            "--------------------------------------------------\n",
            "gender ['Other' 'Female' 'Male']\n",
            "--------------------------------------------------\n",
            "subscription_type ['Basic' 'Standard' 'Premium']\n",
            "--------------------------------------------------\n",
            "watch_hours [14.73  0.7  16.32 ... 49.17 16.55  9.12]\n",
            "--------------------------------------------------\n",
            "last_login_days [29 19 10 12 13 26 20 56 34 36 38 23 33  7 32 40 27  4 57 43 18  6 55 53\n",
            " 52  0 48 16 35 45  1 15 14 25 50 44 39 24 21 22 11 30 37 31 46 41  2  3\n",
            " 51  9 54 17 49 42 28 59 58 60 47  5  8]\n",
            "--------------------------------------------------\n",
            "region ['Africa' 'Europe' 'Asia' 'Oceania' 'South America' 'North America']\n",
            "--------------------------------------------------\n",
            "device ['TV' 'Mobile' 'Laptop' 'Desktop' 'Tablet']\n",
            "--------------------------------------------------\n",
            "monthly_fee [ 8.99 13.99 17.99]\n",
            "--------------------------------------------------\n",
            "churned [1 0]\n",
            "--------------------------------------------------\n",
            "payment_method ['Gift Card' 'Crypto' 'Debit Card' 'PayPal' 'Credit Card']\n",
            "--------------------------------------------------\n",
            "number_of_profiles [1 5 2 3 4]\n",
            "--------------------------------------------------\n",
            "avg_watch_time_per_day [4.900e-01 3.000e-02 1.480e+00 3.500e-01 1.300e-01 5.100e-01 6.600e-01\n",
            " 2.500e-01 9.100e-01 6.000e-02 4.200e-01 5.700e-01 3.300e-01 1.500e-01\n",
            " 1.000e+00 5.120e+00 9.000e-02 1.900e-01 5.500e-01 6.380e+00 1.400e-01\n",
            " 9.800e-01 1.730e+00 1.290e+00 1.060e+00 2.000e-02 4.500e-01 3.000e-01\n",
            " 2.700e-01 1.000e-01 3.800e-01 1.560e+00 4.400e-01 1.330e+00 2.800e-01\n",
            " 2.170e+00 8.200e-01 8.000e-02 6.000e-01 1.240e+00 4.000e-01 6.300e-01\n",
            " 2.140e+00 4.030e+00 5.200e-01 7.000e-02 2.200e-01 5.000e-02 8.360e+00\n",
            " 1.220e+00 1.180e+00 3.350e+00 3.600e-01 1.100e+00 6.900e-01 6.090e+00\n",
            " 2.100e-01 1.600e-01 1.800e-01 2.600e-01 8.300e-01 1.700e-01 3.900e-01\n",
            " 1.160e+00 1.890e+00 5.800e-01 1.410e+00 4.100e-01 1.100e-01 7.800e-01\n",
            " 8.700e-01 2.300e+00 3.700e-01 1.370e+00 2.990e+00 6.060e+00 9.300e-01\n",
            " 7.500e-01 7.000e-01 2.900e-01 5.860e+00 4.000e-02 3.060e+00 5.400e-01\n",
            " 3.100e-01 3.400e-01 1.200e-01 4.010e+00 7.200e-01 8.900e-01 5.590e+00\n",
            " 9.700e-01 2.300e-01 9.200e-01 3.200e-01 1.630e+00 7.600e-01 1.830e+00\n",
            " 2.180e+00 2.240e+00 4.600e-01 8.400e-01 2.400e+00 0.000e+00 1.044e+01\n",
            " 2.000e-01 2.870e+00 1.770e+00 2.900e+00 3.460e+00 5.900e-01 1.000e-02\n",
            " 2.120e+00 1.810e+00 7.880e+00 2.400e-01 7.700e-01 6.400e-01 2.500e+00\n",
            " 5.490e+00 9.000e-01 3.680e+00 5.280e+00 4.300e-01 7.400e-01 9.400e-01\n",
            " 1.092e+01 1.680e+00 5.000e-01 2.460e+00 2.060e+00 8.800e-01 1.570e+00\n",
            " 1.650e+00 1.670e+00 1.470e+00 5.300e-01 8.500e-01 3.160e+00 1.440e+00\n",
            " 1.450e+00 4.700e-01 8.000e-01 8.600e-01 1.260e+00 8.100e-01 6.620e+00\n",
            " 1.070e+00 1.622e+01 3.210e+00 1.230e+00 2.090e+00 2.130e+00 1.390e+00\n",
            " 1.840e+00 1.030e+00 2.121e+01 4.000e+00 4.800e-01 6.100e-01 6.700e-01\n",
            " 7.080e+00 4.190e+00 9.600e-01 7.300e-01 7.900e-01 2.030e+00 6.800e-01\n",
            " 2.291e+01 1.540e+00 4.290e+00 1.880e+00 8.400e+00 1.175e+01 8.390e+00\n",
            " 3.880e+00 3.700e+00 3.090e+00 2.420e+00 1.710e+00 1.140e+00 2.710e+00\n",
            " 9.900e-01 1.080e+00 2.190e+00 1.590e+00 1.640e+00 1.164e+01 1.190e+00\n",
            " 2.360e+00 1.892e+01 1.270e+00 1.120e+00 1.500e+00 2.700e+00 2.660e+00\n",
            " 4.120e+00 1.980e+00 1.820e+00 1.200e+00 6.110e+00 4.750e+00 1.090e+00\n",
            " 1.900e+00 2.470e+00 2.515e+01 4.040e+00 4.220e+00 2.860e+00 1.461e+01\n",
            " 6.460e+00 1.143e+01 6.500e-01 4.910e+00 6.200e-01 2.680e+00 3.280e+00\n",
            " 1.750e+00 1.150e+00 2.350e+00 7.520e+00 2.880e+00 2.210e+00 2.340e+00\n",
            " 5.420e+00 1.130e+00 1.720e+00 1.780e+00 1.960e+00 1.320e+00 4.240e+00\n",
            " 7.100e-01 2.020e+00 2.480e+00 5.600e-01 1.210e+00 4.320e+00 9.500e-01\n",
            " 2.000e+00 1.010e+00 1.610e+00 2.250e+00 1.520e+00 2.840e+00 3.130e+00\n",
            " 9.740e+00 3.390e+00 3.850e+00 1.020e+00 1.600e+00 1.189e+01 1.875e+01\n",
            " 6.520e+00 1.660e+00 4.420e+00 1.460e+00 1.350e+00 4.410e+00 1.850e+00\n",
            " 1.572e+01 1.061e+01 3.040e+00 4.550e+00 1.910e+00 3.070e+00 1.250e+00\n",
            " 3.420e+00 1.490e+00 1.040e+00 1.411e+01 5.640e+00 5.280e+01 5.260e+00\n",
            " 2.910e+00 1.510e+00 2.890e+00 2.040e+00 1.110e+00 2.590e+00 1.920e+00\n",
            " 4.180e+00 1.930e+00 3.470e+00 7.530e+00 1.400e+00 1.340e+00 2.800e+00\n",
            " 2.080e+00 3.360e+00 1.170e+00 5.050e+00 1.620e+00 2.280e+00 4.270e+00\n",
            " 4.360e+00 6.780e+00 3.410e+00 1.256e+01 7.480e+00 3.150e+00 1.790e+00\n",
            " 9.040e+00 1.050e+00 1.610e+01 3.990e+00 3.890e+00 4.760e+00 2.690e+00\n",
            " 2.100e+00 2.850e+00 1.700e+00 1.360e+00 4.170e+00 1.430e+00 7.840e+00\n",
            " 2.730e+00 1.058e+01 6.580e+00 1.860e+00 6.290e+00 1.380e+00 1.463e+01\n",
            " 1.580e+00 2.010e+00 9.370e+00 3.900e+00 5.770e+00 1.431e+01 2.960e+00\n",
            " 3.600e+00 2.740e+00 2.070e+00 6.420e+00 5.210e+00 2.380e+00 1.990e+00\n",
            " 2.320e+00 2.270e+00 1.870e+00 9.842e+01 9.810e+00 8.190e+00 6.280e+00\n",
            " 2.110e+00 8.970e+00 5.360e+00 3.110e+00 4.470e+00 5.880e+00 1.303e+01\n",
            " 1.008e+01 3.080e+00 1.530e+00 1.760e+00 5.000e+00 2.750e+00 1.259e+01\n",
            " 5.530e+00 2.056e+01 5.320e+00 3.750e+00 1.108e+01 3.100e+00 3.620e+00\n",
            " 6.500e+00 1.970e+00 5.470e+00 3.500e+00 1.950e+00 3.630e+00 3.320e+00\n",
            " 2.810e+00 2.650e+00 3.453e+01 1.054e+01 2.970e+00 2.310e+00 7.310e+00\n",
            " 9.260e+00 1.280e+00 1.550e+00 2.830e+00 4.210e+00 1.665e+01 2.260e+00\n",
            " 1.371e+01 3.570e+00 2.780e+00 7.450e+00 2.450e+00 4.460e+00 2.950e+00\n",
            " 1.690e+00 3.170e+00 2.580e+00 5.710e+00 8.180e+00 9.320e+00 2.770e+00\n",
            " 3.710e+00 2.560e+00 3.980e+00 9.190e+00 4.630e+00 6.370e+00 6.530e+00\n",
            " 3.310e+00 7.680e+00 4.340e+00 2.550e+00 1.300e+00 1.136e+01 4.140e+00\n",
            " 1.443e+01 1.740e+00 5.110e+00 2.640e+00 3.270e+00 4.680e+00 2.430e+00\n",
            " 2.290e+00 1.800e+00 1.378e+01 5.440e+00 1.420e+00 7.030e+00 1.704e+01\n",
            " 5.340e+00 2.790e+00 6.130e+00 2.720e+00 5.430e+00 3.000e+00 4.710e+00\n",
            " 8.050e+00 2.866e+01 2.172e+01 6.800e+00 2.220e+00 4.840e+00 3.790e+00\n",
            " 1.310e+00 4.740e+00 4.090e+00 3.190e+00 7.600e+00 1.436e+01 1.152e+01\n",
            " 5.070e+00 1.272e+01 3.610e+00 3.830e+00 3.250e+00 2.530e+00 4.810e+00\n",
            " 1.276e+01 3.920e+00 7.820e+00 3.281e+01 3.220e+00 9.050e+00 5.970e+00\n",
            " 7.180e+00 1.027e+01 1.160e+01 3.580e+00 3.030e+00 6.710e+00 2.050e+00\n",
            " 9.520e+00 1.167e+01 2.727e+01 5.990e+00 3.810e+00 4.100e+00 4.080e+00\n",
            " 8.710e+00 1.940e+00 3.510e+00 2.760e+00 6.440e+00 2.160e+00 4.310e+00\n",
            " 4.070e+00 1.552e+01 2.200e+00 1.185e+01 3.430e+00 1.799e+01 7.660e+00\n",
            " 3.020e+00 7.780e+00 3.480e+00 6.040e+00 5.460e+00 4.980e+00 3.288e+01\n",
            " 1.426e+01 2.955e+01 7.170e+00 7.760e+00 2.698e+01 1.201e+01 3.550e+00\n",
            " 3.120e+00]\n",
            "--------------------------------------------------\n",
            "favorite_genre ['Action' 'Sci-Fi' 'Drama' 'Horror' 'Romance' 'Comedy' 'Documentary']\n",
            "--------------------------------------------------\n"
          ]
        }
      ]
    },
    {
      "cell_type": "code",
      "source": [
        "df.columns #df[] = df[].astype() to change type if needed"
      ],
      "metadata": {
        "colab": {
          "base_uri": "https://localhost:8080/"
        },
        "id": "RH8cXR6q917V",
        "outputId": "568eaa99-65b7-4fed-abc8-6721dd0feac1"
      },
      "execution_count": 12,
      "outputs": [
        {
          "output_type": "execute_result",
          "data": {
            "text/plain": [
              "Index(['age', 'gender', 'subscription_type', 'watch_hours', 'last_login_days',\n",
              "       'region', 'device', 'monthly_fee', 'churned', 'payment_method',\n",
              "       'number_of_profiles', 'avg_watch_time_per_day', 'favorite_genre'],\n",
              "      dtype='object')"
            ]
          },
          "metadata": {},
          "execution_count": 12
        }
      ]
    },
    {
      "cell_type": "code",
      "source": [
        "df[df['favorite_genre']==\" \"] #to check if there are any null values or blank spaces\n",
        "#df[col_name] = df[col_name].replace([\" \" : \"0.0\" ]) to replace empty spaces with corresponding datatypes"
      ],
      "metadata": {
        "colab": {
          "base_uri": "https://localhost:8080/",
          "height": 73
        },
        "id": "KFEz5a5N915d",
        "outputId": "255a38be-5dd2-4fe9-dec5-1ccfadc18dd9"
      },
      "execution_count": 13,
      "outputs": [
        {
          "output_type": "execute_result",
          "data": {
            "text/plain": [
              "Empty DataFrame\n",
              "Columns: [age, gender, subscription_type, watch_hours, last_login_days, region, device, monthly_fee, churned, payment_method, number_of_profiles, avg_watch_time_per_day, favorite_genre]\n",
              "Index: []"
            ],
            "text/html": [
              "\n",
              "  <div id=\"df-7831ab99-b1b7-48e0-8529-61159e741e3a\" class=\"colab-df-container\">\n",
              "    <div>\n",
              "<style scoped>\n",
              "    .dataframe tbody tr th:only-of-type {\n",
              "        vertical-align: middle;\n",
              "    }\n",
              "\n",
              "    .dataframe tbody tr th {\n",
              "        vertical-align: top;\n",
              "    }\n",
              "\n",
              "    .dataframe thead th {\n",
              "        text-align: right;\n",
              "    }\n",
              "</style>\n",
              "<table border=\"1\" class=\"dataframe\">\n",
              "  <thead>\n",
              "    <tr style=\"text-align: right;\">\n",
              "      <th></th>\n",
              "      <th>age</th>\n",
              "      <th>gender</th>\n",
              "      <th>subscription_type</th>\n",
              "      <th>watch_hours</th>\n",
              "      <th>last_login_days</th>\n",
              "      <th>region</th>\n",
              "      <th>device</th>\n",
              "      <th>monthly_fee</th>\n",
              "      <th>churned</th>\n",
              "      <th>payment_method</th>\n",
              "      <th>number_of_profiles</th>\n",
              "      <th>avg_watch_time_per_day</th>\n",
              "      <th>favorite_genre</th>\n",
              "    </tr>\n",
              "  </thead>\n",
              "  <tbody>\n",
              "  </tbody>\n",
              "</table>\n",
              "</div>\n",
              "    <div class=\"colab-df-buttons\">\n",
              "\n",
              "  <div class=\"colab-df-container\">\n",
              "    <button class=\"colab-df-convert\" onclick=\"convertToInteractive('df-7831ab99-b1b7-48e0-8529-61159e741e3a')\"\n",
              "            title=\"Convert this dataframe to an interactive table.\"\n",
              "            style=\"display:none;\">\n",
              "\n",
              "  <svg xmlns=\"http://www.w3.org/2000/svg\" height=\"24px\" viewBox=\"0 -960 960 960\">\n",
              "    <path d=\"M120-120v-720h720v720H120Zm60-500h600v-160H180v160Zm220 220h160v-160H400v160Zm0 220h160v-160H400v160ZM180-400h160v-160H180v160Zm440 0h160v-160H620v160ZM180-180h160v-160H180v160Zm440 0h160v-160H620v160Z\"/>\n",
              "  </svg>\n",
              "    </button>\n",
              "\n",
              "  <style>\n",
              "    .colab-df-container {\n",
              "      display:flex;\n",
              "      gap: 12px;\n",
              "    }\n",
              "\n",
              "    .colab-df-convert {\n",
              "      background-color: #E8F0FE;\n",
              "      border: none;\n",
              "      border-radius: 50%;\n",
              "      cursor: pointer;\n",
              "      display: none;\n",
              "      fill: #1967D2;\n",
              "      height: 32px;\n",
              "      padding: 0 0 0 0;\n",
              "      width: 32px;\n",
              "    }\n",
              "\n",
              "    .colab-df-convert:hover {\n",
              "      background-color: #E2EBFA;\n",
              "      box-shadow: 0px 1px 2px rgba(60, 64, 67, 0.3), 0px 1px 3px 1px rgba(60, 64, 67, 0.15);\n",
              "      fill: #174EA6;\n",
              "    }\n",
              "\n",
              "    .colab-df-buttons div {\n",
              "      margin-bottom: 4px;\n",
              "    }\n",
              "\n",
              "    [theme=dark] .colab-df-convert {\n",
              "      background-color: #3B4455;\n",
              "      fill: #D2E3FC;\n",
              "    }\n",
              "\n",
              "    [theme=dark] .colab-df-convert:hover {\n",
              "      background-color: #434B5C;\n",
              "      box-shadow: 0px 1px 3px 1px rgba(0, 0, 0, 0.15);\n",
              "      filter: drop-shadow(0px 1px 2px rgba(0, 0, 0, 0.3));\n",
              "      fill: #FFFFFF;\n",
              "    }\n",
              "  </style>\n",
              "\n",
              "    <script>\n",
              "      const buttonEl =\n",
              "        document.querySelector('#df-7831ab99-b1b7-48e0-8529-61159e741e3a button.colab-df-convert');\n",
              "      buttonEl.style.display =\n",
              "        google.colab.kernel.accessAllowed ? 'block' : 'none';\n",
              "\n",
              "      async function convertToInteractive(key) {\n",
              "        const element = document.querySelector('#df-7831ab99-b1b7-48e0-8529-61159e741e3a');\n",
              "        const dataTable =\n",
              "          await google.colab.kernel.invokeFunction('convertToInteractive',\n",
              "                                                    [key], {});\n",
              "        if (!dataTable) return;\n",
              "\n",
              "        const docLinkHtml = 'Like what you see? Visit the ' +\n",
              "          '<a target=\"_blank\" href=https://colab.research.google.com/notebooks/data_table.ipynb>data table notebook</a>'\n",
              "          + ' to learn more about interactive tables.';\n",
              "        element.innerHTML = '';\n",
              "        dataTable['output_type'] = 'display_data';\n",
              "        await google.colab.output.renderOutput(dataTable, element);\n",
              "        const docLink = document.createElement('div');\n",
              "        docLink.innerHTML = docLinkHtml;\n",
              "        element.appendChild(docLink);\n",
              "      }\n",
              "    </script>\n",
              "  </div>\n",
              "\n",
              "\n",
              "    </div>\n",
              "  </div>\n"
            ],
            "application/vnd.google.colaboratory.intrinsic+json": {
              "type": "dataframe",
              "repr_error": "Out of range float values are not JSON compliant: nan"
            }
          },
          "metadata": {},
          "execution_count": 13
        }
      ]
    },
    {
      "cell_type": "code",
      "source": [
        "#checking the class distribution of target column\n",
        "print(df['churned'].value_counts())"
      ],
      "metadata": {
        "colab": {
          "base_uri": "https://localhost:8080/"
        },
        "id": "nvZjtN3b-kdF",
        "outputId": "598e84a5-8bae-4bea-e04c-6ad53d10acd3"
      },
      "execution_count": 14,
      "outputs": [
        {
          "output_type": "stream",
          "name": "stdout",
          "text": [
            "churned\n",
            "1    2515\n",
            "0    2485\n",
            "Name: count, dtype: int64\n"
          ]
        }
      ]
    },
    {
      "cell_type": "code",
      "source": [
        "df.shape"
      ],
      "metadata": {
        "colab": {
          "base_uri": "https://localhost:8080/"
        },
        "id": "Q2UpwQBy-kaI",
        "outputId": "45394425-04e4-4f03-b881-b3c8517ceab2"
      },
      "execution_count": 15,
      "outputs": [
        {
          "output_type": "execute_result",
          "data": {
            "text/plain": [
              "(5000, 13)"
            ]
          },
          "metadata": {},
          "execution_count": 15
        }
      ]
    },
    {
      "cell_type": "code",
      "source": [
        "df.describe()"
      ],
      "metadata": {
        "colab": {
          "base_uri": "https://localhost:8080/",
          "height": 300
        },
        "id": "eUCJ9t2_-kV0",
        "outputId": "e3d4e55f-e9af-4bbd-8b1d-0df3f1e03587"
      },
      "execution_count": 16,
      "outputs": [
        {
          "output_type": "execute_result",
          "data": {
            "text/plain": [
              "               age  watch_hours  last_login_days  monthly_fee      churned  \\\n",
              "count  5000.000000  5000.000000      5000.000000  5000.000000  5000.000000   \n",
              "mean     43.847400    11.649450        30.089800    13.683400     0.503000   \n",
              "std      15.501128    12.014654        17.536078     3.692062     0.500041   \n",
              "min      18.000000     0.010000         0.000000     8.990000     0.000000   \n",
              "25%      30.000000     3.337500        15.000000     8.990000     0.000000   \n",
              "50%      44.000000     8.000000        30.000000    13.990000     1.000000   \n",
              "75%      58.000000    16.030000        45.000000    17.990000     1.000000   \n",
              "max      70.000000   110.400000        60.000000    17.990000     1.000000   \n",
              "\n",
              "       number_of_profiles  avg_watch_time_per_day  \n",
              "count         5000.000000             5000.000000  \n",
              "mean             3.024400                0.874800  \n",
              "std              1.415841                2.619824  \n",
              "min              1.000000                0.000000  \n",
              "25%              2.000000                0.110000  \n",
              "50%              3.000000                0.290000  \n",
              "75%              4.000000                0.720000  \n",
              "max              5.000000               98.420000  "
            ],
            "text/html": [
              "\n",
              "  <div id=\"df-25a7502b-f338-48c8-95f0-cb7cce74308e\" class=\"colab-df-container\">\n",
              "    <div>\n",
              "<style scoped>\n",
              "    .dataframe tbody tr th:only-of-type {\n",
              "        vertical-align: middle;\n",
              "    }\n",
              "\n",
              "    .dataframe tbody tr th {\n",
              "        vertical-align: top;\n",
              "    }\n",
              "\n",
              "    .dataframe thead th {\n",
              "        text-align: right;\n",
              "    }\n",
              "</style>\n",
              "<table border=\"1\" class=\"dataframe\">\n",
              "  <thead>\n",
              "    <tr style=\"text-align: right;\">\n",
              "      <th></th>\n",
              "      <th>age</th>\n",
              "      <th>watch_hours</th>\n",
              "      <th>last_login_days</th>\n",
              "      <th>monthly_fee</th>\n",
              "      <th>churned</th>\n",
              "      <th>number_of_profiles</th>\n",
              "      <th>avg_watch_time_per_day</th>\n",
              "    </tr>\n",
              "  </thead>\n",
              "  <tbody>\n",
              "    <tr>\n",
              "      <th>count</th>\n",
              "      <td>5000.000000</td>\n",
              "      <td>5000.000000</td>\n",
              "      <td>5000.000000</td>\n",
              "      <td>5000.000000</td>\n",
              "      <td>5000.000000</td>\n",
              "      <td>5000.000000</td>\n",
              "      <td>5000.000000</td>\n",
              "    </tr>\n",
              "    <tr>\n",
              "      <th>mean</th>\n",
              "      <td>43.847400</td>\n",
              "      <td>11.649450</td>\n",
              "      <td>30.089800</td>\n",
              "      <td>13.683400</td>\n",
              "      <td>0.503000</td>\n",
              "      <td>3.024400</td>\n",
              "      <td>0.874800</td>\n",
              "    </tr>\n",
              "    <tr>\n",
              "      <th>std</th>\n",
              "      <td>15.501128</td>\n",
              "      <td>12.014654</td>\n",
              "      <td>17.536078</td>\n",
              "      <td>3.692062</td>\n",
              "      <td>0.500041</td>\n",
              "      <td>1.415841</td>\n",
              "      <td>2.619824</td>\n",
              "    </tr>\n",
              "    <tr>\n",
              "      <th>min</th>\n",
              "      <td>18.000000</td>\n",
              "      <td>0.010000</td>\n",
              "      <td>0.000000</td>\n",
              "      <td>8.990000</td>\n",
              "      <td>0.000000</td>\n",
              "      <td>1.000000</td>\n",
              "      <td>0.000000</td>\n",
              "    </tr>\n",
              "    <tr>\n",
              "      <th>25%</th>\n",
              "      <td>30.000000</td>\n",
              "      <td>3.337500</td>\n",
              "      <td>15.000000</td>\n",
              "      <td>8.990000</td>\n",
              "      <td>0.000000</td>\n",
              "      <td>2.000000</td>\n",
              "      <td>0.110000</td>\n",
              "    </tr>\n",
              "    <tr>\n",
              "      <th>50%</th>\n",
              "      <td>44.000000</td>\n",
              "      <td>8.000000</td>\n",
              "      <td>30.000000</td>\n",
              "      <td>13.990000</td>\n",
              "      <td>1.000000</td>\n",
              "      <td>3.000000</td>\n",
              "      <td>0.290000</td>\n",
              "    </tr>\n",
              "    <tr>\n",
              "      <th>75%</th>\n",
              "      <td>58.000000</td>\n",
              "      <td>16.030000</td>\n",
              "      <td>45.000000</td>\n",
              "      <td>17.990000</td>\n",
              "      <td>1.000000</td>\n",
              "      <td>4.000000</td>\n",
              "      <td>0.720000</td>\n",
              "    </tr>\n",
              "    <tr>\n",
              "      <th>max</th>\n",
              "      <td>70.000000</td>\n",
              "      <td>110.400000</td>\n",
              "      <td>60.000000</td>\n",
              "      <td>17.990000</td>\n",
              "      <td>1.000000</td>\n",
              "      <td>5.000000</td>\n",
              "      <td>98.420000</td>\n",
              "    </tr>\n",
              "  </tbody>\n",
              "</table>\n",
              "</div>\n",
              "    <div class=\"colab-df-buttons\">\n",
              "\n",
              "  <div class=\"colab-df-container\">\n",
              "    <button class=\"colab-df-convert\" onclick=\"convertToInteractive('df-25a7502b-f338-48c8-95f0-cb7cce74308e')\"\n",
              "            title=\"Convert this dataframe to an interactive table.\"\n",
              "            style=\"display:none;\">\n",
              "\n",
              "  <svg xmlns=\"http://www.w3.org/2000/svg\" height=\"24px\" viewBox=\"0 -960 960 960\">\n",
              "    <path d=\"M120-120v-720h720v720H120Zm60-500h600v-160H180v160Zm220 220h160v-160H400v160Zm0 220h160v-160H400v160ZM180-400h160v-160H180v160Zm440 0h160v-160H620v160ZM180-180h160v-160H180v160Zm440 0h160v-160H620v160Z\"/>\n",
              "  </svg>\n",
              "    </button>\n",
              "\n",
              "  <style>\n",
              "    .colab-df-container {\n",
              "      display:flex;\n",
              "      gap: 12px;\n",
              "    }\n",
              "\n",
              "    .colab-df-convert {\n",
              "      background-color: #E8F0FE;\n",
              "      border: none;\n",
              "      border-radius: 50%;\n",
              "      cursor: pointer;\n",
              "      display: none;\n",
              "      fill: #1967D2;\n",
              "      height: 32px;\n",
              "      padding: 0 0 0 0;\n",
              "      width: 32px;\n",
              "    }\n",
              "\n",
              "    .colab-df-convert:hover {\n",
              "      background-color: #E2EBFA;\n",
              "      box-shadow: 0px 1px 2px rgba(60, 64, 67, 0.3), 0px 1px 3px 1px rgba(60, 64, 67, 0.15);\n",
              "      fill: #174EA6;\n",
              "    }\n",
              "\n",
              "    .colab-df-buttons div {\n",
              "      margin-bottom: 4px;\n",
              "    }\n",
              "\n",
              "    [theme=dark] .colab-df-convert {\n",
              "      background-color: #3B4455;\n",
              "      fill: #D2E3FC;\n",
              "    }\n",
              "\n",
              "    [theme=dark] .colab-df-convert:hover {\n",
              "      background-color: #434B5C;\n",
              "      box-shadow: 0px 1px 3px 1px rgba(0, 0, 0, 0.15);\n",
              "      filter: drop-shadow(0px 1px 2px rgba(0, 0, 0, 0.3));\n",
              "      fill: #FFFFFF;\n",
              "    }\n",
              "  </style>\n",
              "\n",
              "    <script>\n",
              "      const buttonEl =\n",
              "        document.querySelector('#df-25a7502b-f338-48c8-95f0-cb7cce74308e button.colab-df-convert');\n",
              "      buttonEl.style.display =\n",
              "        google.colab.kernel.accessAllowed ? 'block' : 'none';\n",
              "\n",
              "      async function convertToInteractive(key) {\n",
              "        const element = document.querySelector('#df-25a7502b-f338-48c8-95f0-cb7cce74308e');\n",
              "        const dataTable =\n",
              "          await google.colab.kernel.invokeFunction('convertToInteractive',\n",
              "                                                    [key], {});\n",
              "        if (!dataTable) return;\n",
              "\n",
              "        const docLinkHtml = 'Like what you see? Visit the ' +\n",
              "          '<a target=\"_blank\" href=https://colab.research.google.com/notebooks/data_table.ipynb>data table notebook</a>'\n",
              "          + ' to learn more about interactive tables.';\n",
              "        element.innerHTML = '';\n",
              "        dataTable['output_type'] = 'display_data';\n",
              "        await google.colab.output.renderOutput(dataTable, element);\n",
              "        const docLink = document.createElement('div');\n",
              "        docLink.innerHTML = docLinkHtml;\n",
              "        element.appendChild(docLink);\n",
              "      }\n",
              "    </script>\n",
              "  </div>\n",
              "\n",
              "\n",
              "    <div id=\"df-7479e477-6e47-4fe8-99e6-6f39c9ea5441\">\n",
              "      <button class=\"colab-df-quickchart\" onclick=\"quickchart('df-7479e477-6e47-4fe8-99e6-6f39c9ea5441')\"\n",
              "                title=\"Suggest charts\"\n",
              "                style=\"display:none;\">\n",
              "\n",
              "<svg xmlns=\"http://www.w3.org/2000/svg\" height=\"24px\"viewBox=\"0 0 24 24\"\n",
              "     width=\"24px\">\n",
              "    <g>\n",
              "        <path d=\"M19 3H5c-1.1 0-2 .9-2 2v14c0 1.1.9 2 2 2h14c1.1 0 2-.9 2-2V5c0-1.1-.9-2-2-2zM9 17H7v-7h2v7zm4 0h-2V7h2v10zm4 0h-2v-4h2v4z\"/>\n",
              "    </g>\n",
              "</svg>\n",
              "      </button>\n",
              "\n",
              "<style>\n",
              "  .colab-df-quickchart {\n",
              "      --bg-color: #E8F0FE;\n",
              "      --fill-color: #1967D2;\n",
              "      --hover-bg-color: #E2EBFA;\n",
              "      --hover-fill-color: #174EA6;\n",
              "      --disabled-fill-color: #AAA;\n",
              "      --disabled-bg-color: #DDD;\n",
              "  }\n",
              "\n",
              "  [theme=dark] .colab-df-quickchart {\n",
              "      --bg-color: #3B4455;\n",
              "      --fill-color: #D2E3FC;\n",
              "      --hover-bg-color: #434B5C;\n",
              "      --hover-fill-color: #FFFFFF;\n",
              "      --disabled-bg-color: #3B4455;\n",
              "      --disabled-fill-color: #666;\n",
              "  }\n",
              "\n",
              "  .colab-df-quickchart {\n",
              "    background-color: var(--bg-color);\n",
              "    border: none;\n",
              "    border-radius: 50%;\n",
              "    cursor: pointer;\n",
              "    display: none;\n",
              "    fill: var(--fill-color);\n",
              "    height: 32px;\n",
              "    padding: 0;\n",
              "    width: 32px;\n",
              "  }\n",
              "\n",
              "  .colab-df-quickchart:hover {\n",
              "    background-color: var(--hover-bg-color);\n",
              "    box-shadow: 0 1px 2px rgba(60, 64, 67, 0.3), 0 1px 3px 1px rgba(60, 64, 67, 0.15);\n",
              "    fill: var(--button-hover-fill-color);\n",
              "  }\n",
              "\n",
              "  .colab-df-quickchart-complete:disabled,\n",
              "  .colab-df-quickchart-complete:disabled:hover {\n",
              "    background-color: var(--disabled-bg-color);\n",
              "    fill: var(--disabled-fill-color);\n",
              "    box-shadow: none;\n",
              "  }\n",
              "\n",
              "  .colab-df-spinner {\n",
              "    border: 2px solid var(--fill-color);\n",
              "    border-color: transparent;\n",
              "    border-bottom-color: var(--fill-color);\n",
              "    animation:\n",
              "      spin 1s steps(1) infinite;\n",
              "  }\n",
              "\n",
              "  @keyframes spin {\n",
              "    0% {\n",
              "      border-color: transparent;\n",
              "      border-bottom-color: var(--fill-color);\n",
              "      border-left-color: var(--fill-color);\n",
              "    }\n",
              "    20% {\n",
              "      border-color: transparent;\n",
              "      border-left-color: var(--fill-color);\n",
              "      border-top-color: var(--fill-color);\n",
              "    }\n",
              "    30% {\n",
              "      border-color: transparent;\n",
              "      border-left-color: var(--fill-color);\n",
              "      border-top-color: var(--fill-color);\n",
              "      border-right-color: var(--fill-color);\n",
              "    }\n",
              "    40% {\n",
              "      border-color: transparent;\n",
              "      border-right-color: var(--fill-color);\n",
              "      border-top-color: var(--fill-color);\n",
              "    }\n",
              "    60% {\n",
              "      border-color: transparent;\n",
              "      border-right-color: var(--fill-color);\n",
              "    }\n",
              "    80% {\n",
              "      border-color: transparent;\n",
              "      border-right-color: var(--fill-color);\n",
              "      border-bottom-color: var(--fill-color);\n",
              "    }\n",
              "    90% {\n",
              "      border-color: transparent;\n",
              "      border-bottom-color: var(--fill-color);\n",
              "    }\n",
              "  }\n",
              "</style>\n",
              "\n",
              "      <script>\n",
              "        async function quickchart(key) {\n",
              "          const quickchartButtonEl =\n",
              "            document.querySelector('#' + key + ' button');\n",
              "          quickchartButtonEl.disabled = true;  // To prevent multiple clicks.\n",
              "          quickchartButtonEl.classList.add('colab-df-spinner');\n",
              "          try {\n",
              "            const charts = await google.colab.kernel.invokeFunction(\n",
              "                'suggestCharts', [key], {});\n",
              "          } catch (error) {\n",
              "            console.error('Error during call to suggestCharts:', error);\n",
              "          }\n",
              "          quickchartButtonEl.classList.remove('colab-df-spinner');\n",
              "          quickchartButtonEl.classList.add('colab-df-quickchart-complete');\n",
              "        }\n",
              "        (() => {\n",
              "          let quickchartButtonEl =\n",
              "            document.querySelector('#df-7479e477-6e47-4fe8-99e6-6f39c9ea5441 button');\n",
              "          quickchartButtonEl.style.display =\n",
              "            google.colab.kernel.accessAllowed ? 'block' : 'none';\n",
              "        })();\n",
              "      </script>\n",
              "    </div>\n",
              "\n",
              "    </div>\n",
              "  </div>\n"
            ],
            "application/vnd.google.colaboratory.intrinsic+json": {
              "type": "dataframe",
              "summary": "{\n  \"name\": \"df\",\n  \"rows\": 8,\n  \"fields\": [\n    {\n      \"column\": \"age\",\n      \"properties\": {\n        \"dtype\": \"number\",\n        \"std\": 1753.7570596295782,\n        \"min\": 15.501128031019146,\n        \"max\": 5000.0,\n        \"num_unique_values\": 8,\n        \"samples\": [\n          43.8474,\n          44.0,\n          5000.0\n        ],\n        \"semantic_type\": \"\",\n        \"description\": \"\"\n      }\n    },\n    {\n      \"column\": \"watch_hours\",\n      \"properties\": {\n        \"dtype\": \"number\",\n        \"std\": 1759.981347020129,\n        \"min\": 0.01,\n        \"max\": 5000.0,\n        \"num_unique_values\": 8,\n        \"samples\": [\n          11.64945,\n          8.0,\n          5000.0\n        ],\n        \"semantic_type\": \"\",\n        \"description\": \"\"\n      }\n    },\n    {\n      \"column\": \"last_login_days\",\n      \"properties\": {\n        \"dtype\": \"number\",\n        \"std\": 1757.8821902619543,\n        \"min\": 0.0,\n        \"max\": 5000.0,\n        \"num_unique_values\": 8,\n        \"samples\": [\n          30.0898,\n          30.0,\n          5000.0\n        ],\n        \"semantic_type\": \"\",\n        \"description\": \"\"\n      }\n    },\n    {\n      \"column\": \"monthly_fee\",\n      \"properties\": {\n        \"dtype\": \"number\",\n        \"std\": 1763.4640676519277,\n        \"min\": 3.69206212089409,\n        \"max\": 5000.0,\n        \"num_unique_values\": 6,\n        \"samples\": [\n          5000.0,\n          13.683399999999997,\n          17.99\n        ],\n        \"semantic_type\": \"\",\n        \"description\": \"\"\n      }\n    },\n    {\n      \"column\": \"churned\",\n      \"properties\": {\n        \"dtype\": \"number\",\n        \"std\": 1767.5648179163531,\n        \"min\": 0.0,\n        \"max\": 5000.0,\n        \"num_unique_values\": 5,\n        \"samples\": [\n          0.503,\n          1.0,\n          0.500041006520116\n        ],\n        \"semantic_type\": \"\",\n        \"description\": \"\"\n      }\n    },\n    {\n      \"column\": \"number_of_profiles\",\n      \"properties\": {\n        \"dtype\": \"number\",\n        \"std\": 1766.7855642403936,\n        \"min\": 1.0,\n        \"max\": 5000.0,\n        \"num_unique_values\": 8,\n        \"samples\": [\n          3.0244,\n          3.0,\n          5000.0\n        ],\n        \"semantic_type\": \"\",\n        \"description\": \"\"\n      }\n    },\n    {\n      \"column\": \"avg_watch_time_per_day\",\n      \"properties\": {\n        \"dtype\": \"number\",\n        \"std\": 1762.8943102029507,\n        \"min\": 0.0,\n        \"max\": 5000.0,\n        \"num_unique_values\": 8,\n        \"samples\": [\n          0.8748,\n          0.29,\n          5000.0\n        ],\n        \"semantic_type\": \"\",\n        \"description\": \"\"\n      }\n    }\n  ]\n}"
            }
          },
          "metadata": {},
          "execution_count": 16
        }
      ]
    },
    {
      "cell_type": "code",
      "source": [
        "def plot_histogram(df,column_name):\n",
        "  plt.figure(figsize= (5,3))\n",
        "  sns.histplot(df[column_name], kde = True)\n",
        "  plt.title(f\"Distribution of {column_name}\")\n",
        "  #calculate mean and median values for the columns\n",
        "  col_mean = df[column_name].mean()\n",
        "  col_median = df[column_name].median()\n",
        "\n",
        "  #adding vertical line for mean and median\n",
        "  plt.axvline(col_mean, color='red', linestyle='--', label='Mean')\n",
        "  plt.axvline(col_median, color='green', linestyle='-', label='Median')\n",
        "\n",
        "  plt.legend()\n",
        "  plt.show()"
      ],
      "metadata": {
        "id": "K8_jAqwQ-kT_"
      },
      "execution_count": 17,
      "outputs": []
    },
    {
      "cell_type": "code",
      "source": [
        "plot_histogram(df,'watch_hours')"
      ],
      "metadata": {
        "colab": {
          "base_uri": "https://localhost:8080/",
          "height": 333
        },
        "id": "yz6fKaqP-kQM",
        "outputId": "02447d6d-3c22-489d-9435-ce70df0487f4"
      },
      "execution_count": 18,
      "outputs": [
        {
          "output_type": "display_data",
          "data": {
            "text/plain": [
              "<Figure size 500x300 with 1 Axes>"
            ],
            "image/png": "[encoded data removed]"
          },
          "metadata": {}
        }
      ]
    },
    {
      "cell_type": "markdown",
      "source": [
        "one cannot work with skewed distribution data when working with models like logistic regression, lasso, linear regression or classification models like svm, etc. but in most cases we get skewed distribution, so we perform feature scaling called standard scaler. it transforms the data such that mean is 0 and std is 1, and hence we'll hv normal bell shaped curve.\n",
        "tree basde models are not sensitive to this so its ok to leave the data without feature scaling."
      ],
      "metadata": {
        "id": "dk9bG50D_D7K"
      }
    },
    {
      "cell_type": "code",
      "source": [
        "plot_histogram(df,'monthly_fee')"
      ],
      "metadata": {
        "colab": {
          "base_uri": "https://localhost:8080/",
          "height": 333
        },
        "id": "nNSVwZKH-kNs",
        "outputId": "ec8ffd74-b6ef-44fb-f27d-75d887eb81b6"
      },
      "execution_count": 19,
      "outputs": [
        {
          "output_type": "display_data",
          "data": {
            "text/plain": [
              "<Figure size 500x300 with 1 Axes>"
            ],
            "image/png": "[encoded data removed]"
          },
          "metadata": {}
        }
      ]
    },
    {
      "cell_type": "code",
      "source": [
        "plot_histogram(df,'avg_watch_time_per_day')"
      ],
      "metadata": {
        "colab": {
          "base_uri": "https://localhost:8080/",
          "height": 333
        },
        "id": "DlqTgK2Q-kJ7",
        "outputId": "49dba154-4d5a-499c-8521-17f44a75bb3a"
      },
      "execution_count": 20,
      "outputs": [
        {
          "output_type": "display_data",
          "data": {
            "text/plain": [
              "<Figure size 500x300 with 1 Axes>"
            ],
            "image/png": "[encoded data removed]"
          },
          "metadata": {}
        }
      ]
    },
    {
      "cell_type": "code",
      "source": [
        "plot_histogram(df,'age')"
      ],
      "metadata": {
        "colab": {
          "base_uri": "https://localhost:8080/",
          "height": 333
        },
        "id": "EoqYBeAi-kIF",
        "outputId": "68e7f7f7-22e4-4a5f-a68a-fb25ee0f0428"
      },
      "execution_count": 21,
      "outputs": [
        {
          "output_type": "display_data",
          "data": {
            "text/plain": [
              "<Figure size 500x300 with 1 Axes>"
            ],
            "image/png": "[encoded data removed]"
          },
          "metadata": {}
        }
      ]
    },
    {
      "cell_type": "code",
      "source": [
        "#box plot of outliers and numerical features\n",
        "def plot_boxplot(df,column_name):\n",
        "  plt.figure(figsize= (5,3))\n",
        "  sns.boxplot(y=df[column_name])\n",
        "  plt.title(f\"box plot of {column_name}\")\n",
        "  plt.ylabel(column_name)\n",
        "  plt.show()"
      ],
      "metadata": {
        "id": "0cMuHEe7-kEZ"
      },
      "execution_count": 22,
      "outputs": []
    },
    {
      "cell_type": "code",
      "source": [
        "plot_boxplot(df,'watch_hours')"
      ],
      "metadata": {
        "colab": {
          "base_uri": "https://localhost:8080/",
          "height": 295
        },
        "id": "z8SxqcFh-kCS",
        "outputId": "5bbd7aae-649f-4789-f218-1da98e0a862c"
      },
      "execution_count": 23,
      "outputs": [
        {
          "output_type": "display_data",
          "data": {
            "text/plain": [
              "<Figure size 500x300 with 1 Axes>"
            ],
            "image/png": "[encoded data removed]"
          },
          "metadata": {}
        }
      ]
    },
    {
      "cell_type": "code",
      "source": [
        "plot_boxplot(df,'monthly_fee')"
      ],
      "metadata": {
        "colab": {
          "base_uri": "https://localhost:8080/",
          "height": 295
        },
        "id": "EdtOxxAA-j-Y",
        "outputId": "9ef56712-d0b4-4302-9f0f-c6eb212b91c1"
      },
      "execution_count": 24,
      "outputs": [
        {
          "output_type": "display_data",
          "data": {
            "text/plain": [
              "<Figure size 500x300 with 1 Axes>"
            ],
            "image/png": "[encoded data removed]"
          },
          "metadata": {}
        }
      ]
    },
    {
      "cell_type": "code",
      "source": [
        "plot_boxplot(df,'avg_watch_time_per_day')"
      ],
      "metadata": {
        "colab": {
          "base_uri": "https://localhost:8080/",
          "height": 295
        },
        "id": "dLVE0IJv-j8Z",
        "outputId": "0479790e-2be5-4941-eea5-ee98981fb806"
      },
      "execution_count": 26,
      "outputs": [
        {
          "output_type": "display_data",
          "data": {
            "text/plain": [
              "<Figure size 500x300 with 1 Axes>"
            ],
            "image/png": "[encoded data removed]"
          },
          "metadata": {}
        }
      ]
    },
    {
      "cell_type": "code",
      "source": [
        "plot_boxplot(df,'age')"
      ],
      "metadata": {
        "colab": {
          "base_uri": "https://localhost:8080/",
          "height": 295
        },
        "id": "dF33Zqgu-j4w",
        "outputId": "96f13531-f6fd-490d-ff6f-3737f2a0f1f1"
      },
      "execution_count": 25,
      "outputs": [
        {
          "output_type": "display_data",
          "data": {
            "text/plain": [
              "<Figure size 500x300 with 1 Axes>"
            ],
            "image/png": "[encoded data removed]"
          },
          "metadata": {}
        }
      ]
    },
    {
      "cell_type": "code",
      "source": [
        "#comparing monthly fees by churn\n",
        "plt.figure(figsize=(5,3))\n",
        "sns.boxplot(x='churned', y='monthly_fee', data=df)\n",
        "plt.title('Monthly Fee by Churn Status')\n",
        "plt.xlabel('Churned')\n",
        "plt.ylabel('Monthly Fee')\n",
        "plt.show()"
      ],
      "metadata": {
        "colab": {
          "base_uri": "https://localhost:8080/",
          "height": 333
        },
        "id": "UuMt9ZRt-j2Z",
        "outputId": "dfbdbd6d-cc29-44e9-b9c5-988b9f3d4b1f"
      },
      "execution_count": 26,
      "outputs": [
        {
          "output_type": "display_data",
          "data": {
            "text/plain": [
              "<Figure size 500x300 with 1 Axes>"
            ],
            "image/png": "[encoded data removed]"
          },
          "metadata": {}
        }
      ]
    },
    {
      "cell_type": "markdown",
      "source": [
        "points above or below the lines are called outliers. incase of outliers, drop them or replace them with mean/median."
      ],
      "metadata": {
        "id": "NUn9qjTX_tbF"
      }
    },
    {
      "cell_type": "code",
      "source": [
        "plt.figure(figsize=(8,4))\n",
        "sns.heatmap(df[['age','watch_hours','avg_watch_time_per_day']].corr(), annot = True, cmap= 'icefire', fmt='.2f')\n",
        "plt.title(\"Heatmap\")\n",
        "plt.show()"
      ],
      "metadata": {
        "colab": {
          "base_uri": "https://localhost:8080/",
          "height": 391
        },
        "id": "OH8SYIfG-jyx",
        "outputId": "4cbc0ab2-386b-41a3-e2dd-963b9f33c3ed"
      },
      "execution_count": 27,
      "outputs": [
        {
          "output_type": "display_data",
          "data": {
            "text/plain": [
              "<Figure size 800x400 with 2 Axes>"
            ],
            "image/png": "[encoded data removed]"
          },
          "metadata": {}
        }
      ]
    },
    {
      "cell_type": "code",
      "source": [
        "plt.figure(figsize=(8,4))\n",
        "sns.heatmap(df[['age','watch_hours','last_login_days','monthly_fee','churned', 'number_of_profiles','avg_watch_time_per_day']].corr(), annot = True, cmap= 'icefire', fmt='.2f')\n",
        "plt.title(\"Heatmap\")\n",
        "plt.show()"
      ],
      "metadata": {
        "colab": {
          "base_uri": "https://localhost:8080/",
          "height": 552
        },
        "id": "f-Oqy2Pg-jwY",
        "outputId": "e702d542-fbdb-4a7b-e4b9-55ede2d4d687"
      },
      "execution_count": 28,
      "outputs": [
        {
          "output_type": "display_data",
          "data": {
            "text/plain": [
              "<Figure size 800x400 with 2 Axes>"
            ],
            "image/png": "[encoded data removed]"
          },
          "metadata": {}
        }
      ]
    },
    {
      "cell_type": "code",
      "source": [
        "df.head(3)"
      ],
      "metadata": {
        "colab": {
          "base_uri": "https://localhost:8080/",
          "height": 163
        },
        "id": "D6fRvbz_-jsd",
        "outputId": "d92489e4-e833-4766-ba59-8c99a20b5fd2"
      },
      "execution_count": 29,
      "outputs": [
        {
          "output_type": "execute_result",
          "data": {
            "text/plain": [
              "   age  gender subscription_type  watch_hours  last_login_days  region  \\\n",
              "0   51   Other             Basic        14.73               29  Africa   \n",
              "1   47   Other          Standard         0.70               19  Europe   \n",
              "2   27  Female          Standard        16.32               10    Asia   \n",
              "\n",
              "   device  monthly_fee  churned payment_method  number_of_profiles  \\\n",
              "0      TV         8.99        1      Gift Card                   1   \n",
              "1  Mobile        13.99        1      Gift Card                   5   \n",
              "2      TV        13.99        0         Crypto                   2   \n",
              "\n",
              "   avg_watch_time_per_day favorite_genre  \n",
              "0                    0.49         Action  \n",
              "1                    0.03         Sci-Fi  \n",
              "2                    1.48          Drama  "
            ],
            "text/html": [
              "\n",
              "  <div id=\"df-0dafff54-b55e-4a6b-a03c-6abff1853f29\" class=\"colab-df-container\">\n",
              "    <div>\n",
              "<style scoped>\n",
              "    .dataframe tbody tr th:only-of-type {\n",
              "        vertical-align: middle;\n",
              "    }\n",
              "\n",
              "    .dataframe tbody tr th {\n",
              "        vertical-align: top;\n",
              "    }\n",
              "\n",
              "    .dataframe thead th {\n",
              "        text-align: right;\n",
              "    }\n",
              "</style>\n",
              "<table border=\"1\" class=\"dataframe\">\n",
              "  <thead>\n",
              "    <tr style=\"text-align: right;\">\n",
              "      <th></th>\n",
              "      <th>age</th>\n",
              "      <th>gender</th>\n",
              "      <th>subscription_type</th>\n",
              "      <th>watch_hours</th>\n",
              "      <th>last_login_days</th>\n",
              "      <th>region</th>\n",
              "      <th>device</th>\n",
              "      <th>monthly_fee</th>\n",
              "      <th>churned</th>\n",
              "      <th>payment_method</th>\n",
              "      <th>number_of_profiles</th>\n",
              "      <th>avg_watch_time_per_day</th>\n",
              "      <th>favorite_genre</th>\n",
              "    </tr>\n",
              "  </thead>\n",
              "  <tbody>\n",
              "    <tr>\n",
              "      <th>0</th>\n",
              "      <td>51</td>\n",
              "      <td>Other</td>\n",
              "      <td>Basic</td>\n",
              "      <td>14.73</td>\n",
              "      <td>29</td>\n",
              "      <td>Africa</td>\n",
              "      <td>TV</td>\n",
              "      <td>8.99</td>\n",
              "      <td>1</td>\n",
              "      <td>Gift Card</td>\n",
              "      <td>1</td>\n",
              "      <td>0.49</td>\n",
              "      <td>Action</td>\n",
              "    </tr>\n",
              "    <tr>\n",
              "      <th>1</th>\n",
              "      <td>47</td>\n",
              "      <td>Other</td>\n",
              "      <td>Standard</td>\n",
              "      <td>0.70</td>\n",
              "      <td>19</td>\n",
              "      <td>Europe</td>\n",
              "      <td>Mobile</td>\n",
              "      <td>13.99</td>\n",
              "      <td>1</td>\n",
              "      <td>Gift Card</td>\n",
              "      <td>5</td>\n",
              "      <td>0.03</td>\n",
              "      <td>Sci-Fi</td>\n",
              "    </tr>\n",
              "    <tr>\n",
              "      <th>2</th>\n",
              "      <td>27</td>\n",
              "      <td>Female</td>\n",
              "      <td>Standard</td>\n",
              "      <td>16.32</td>\n",
              "      <td>10</td>\n",
              "      <td>Asia</td>\n",
              "      <td>TV</td>\n",
              "      <td>13.99</td>\n",
              "      <td>0</td>\n",
              "      <td>Crypto</td>\n",
              "      <td>2</td>\n",
              "      <td>1.48</td>\n",
              "      <td>Drama</td>\n",
              "    </tr>\n",
              "  </tbody>\n",
              "</table>\n",
              "</div>\n",
              "    <div class=\"colab-df-buttons\">\n",
              "\n",
              "  <div class=\"colab-df-container\">\n",
              "    <button class=\"colab-df-convert\" onclick=\"convertToInteractive('df-0dafff54-b55e-4a6b-a03c-6abff1853f29')\"\n",
              "            title=\"Convert this dataframe to an interactive table.\"\n",
              "            style=\"display:none;\">\n",
              "\n",
              "  <svg xmlns=\"http://www.w3.org/2000/svg\" height=\"24px\" viewBox=\"0 -960 960 960\">\n",
              "    <path d=\"M120-120v-720h720v720H120Zm60-500h600v-160H180v160Zm220 220h160v-160H400v160Zm0 220h160v-160H400v160ZM180-400h160v-160H180v160Zm440 0h160v-160H620v160ZM180-180h160v-160H180v160Zm440 0h160v-160H620v160Z\"/>\n",
              "  </svg>\n",
              "    </button>\n",
              "\n",
              "  <style>\n",
              "    .colab-df-container {\n",
              "      display:flex;\n",
              "      gap: 12px;\n",
              "    }\n",
              "\n",
              "    .colab-df-convert {\n",
              "      background-color: #E8F0FE;\n",
              "      border: none;\n",
              "      border-radius: 50%;\n",
              "      cursor: pointer;\n",
              "      display: none;\n",
              "      fill: #1967D2;\n",
              "      height: 32px;\n",
              "      padding: 0 0 0 0;\n",
              "      width: 32px;\n",
              "    }\n",
              "\n",
              "    .colab-df-convert:hover {\n",
              "      background-color: #E2EBFA;\n",
              "      box-shadow: 0px 1px 2px rgba(60, 64, 67, 0.3), 0px 1px 3px 1px rgba(60, 64, 67, 0.15);\n",
              "      fill: #174EA6;\n",
              "    }\n",
              "\n",
              "    .colab-df-buttons div {\n",
              "      margin-bottom: 4px;\n",
              "    }\n",
              "\n",
              "    [theme=dark] .colab-df-convert {\n",
              "      background-color: #3B4455;\n",
              "      fill: #D2E3FC;\n",
              "    }\n",
              "\n",
              "    [theme=dark] .colab-df-convert:hover {\n",
              "      background-color: #434B5C;\n",
              "      box-shadow: 0px 1px 3px 1px rgba(0, 0, 0, 0.15);\n",
              "      filter: drop-shadow(0px 1px 2px rgba(0, 0, 0, 0.3));\n",
              "      fill: #FFFFFF;\n",
              "    }\n",
              "  </style>\n",
              "\n",
              "    <script>\n",
              "      const buttonEl =\n",
              "        document.querySelector('#df-0dafff54-b55e-4a6b-a03c-6abff1853f29 button.colab-df-convert');\n",
              "      buttonEl.style.display =\n",
              "        google.colab.kernel.accessAllowed ? 'block' : 'none';\n",
              "\n",
              "      async function convertToInteractive(key) {\n",
              "        const element = document.querySelector('#df-0dafff54-b55e-4a6b-a03c-6abff1853f29');\n",
              "        const dataTable =\n",
              "          await google.colab.kernel.invokeFunction('convertToInteractive',\n",
              "                                                    [key], {});\n",
              "        if (!dataTable) return;\n",
              "\n",
              "        const docLinkHtml = 'Like what you see? Visit the ' +\n",
              "          '<a target=\"_blank\" href=https://colab.research.google.com/notebooks/data_table.ipynb>data table notebook</a>'\n",
              "          + ' to learn more about interactive tables.';\n",
              "        element.innerHTML = '';\n",
              "        dataTable['output_type'] = 'display_data';\n",
              "        await google.colab.output.renderOutput(dataTable, element);\n",
              "        const docLink = document.createElement('div');\n",
              "        docLink.innerHTML = docLinkHtml;\n",
              "        element.appendChild(docLink);\n",
              "      }\n",
              "    </script>\n",
              "  </div>\n",
              "\n",
              "\n",
              "    <div id=\"df-26898f90-71fc-4272-99a1-024bb34ea649\">\n",
              "      <button class=\"colab-df-quickchart\" onclick=\"quickchart('df-26898f90-71fc-4272-99a1-024bb34ea649')\"\n",
              "                title=\"Suggest charts\"\n",
              "                style=\"display:none;\">\n",
              "\n",
              "<svg xmlns=\"http://www.w3.org/2000/svg\" height=\"24px\"viewBox=\"0 0 24 24\"\n",
              "     width=\"24px\">\n",
              "    <g>\n",
              "        <path d=\"M19 3H5c-1.1 0-2 .9-2 2v14c0 1.1.9 2 2 2h14c1.1 0 2-.9 2-2V5c0-1.1-.9-2-2-2zM9 17H7v-7h2v7zm4 0h-2V7h2v10zm4 0h-2v-4h2v4z\"/>\n",
              "    </g>\n",
              "</svg>\n",
              "      </button>\n",
              "\n",
              "<style>\n",
              "  .colab-df-quickchart {\n",
              "      --bg-color: #E8F0FE;\n",
              "      --fill-color: #1967D2;\n",
              "      --hover-bg-color: #E2EBFA;\n",
              "      --hover-fill-color: #174EA6;\n",
              "      --disabled-fill-color: #AAA;\n",
              "      --disabled-bg-color: #DDD;\n",
              "  }\n",
              "\n",
              "  [theme=dark] .colab-df-quickchart {\n",
              "      --bg-color: #3B4455;\n",
              "      --fill-color: #D2E3FC;\n",
              "      --hover-bg-color: #434B5C;\n",
              "      --hover-fill-color: #FFFFFF;\n",
              "      --disabled-bg-color: #3B4455;\n",
              "      --disabled-fill-color: #666;\n",
              "  }\n",
              "\n",
              "  .colab-df-quickchart {\n",
              "    background-color: var(--bg-color);\n",
              "    border: none;\n",
              "    border-radius: 50%;\n",
              "    cursor: pointer;\n",
              "    display: none;\n",
              "    fill: var(--fill-color);\n",
              "    height: 32px;\n",
              "    padding: 0;\n",
              "    width: 32px;\n",
              "  }\n",
              "\n",
              "  .colab-df-quickchart:hover {\n",
              "    background-color: var(--hover-bg-color);\n",
              "    box-shadow: 0 1px 2px rgba(60, 64, 67, 0.3), 0 1px 3px 1px rgba(60, 64, 67, 0.15);\n",
              "    fill: var(--button-hover-fill-color);\n",
              "  }\n",
              "\n",
              "  .colab-df-quickchart-complete:disabled,\n",
              "  .colab-df-quickchart-complete:disabled:hover {\n",
              "    background-color: var(--disabled-bg-color);\n",
              "    fill: var(--disabled-fill-color);\n",
              "    box-shadow: none;\n",
              "  }\n",
              "\n",
              "  .colab-df-spinner {\n",
              "    border: 2px solid var(--fill-color);\n",
              "    border-color: transparent;\n",
              "    border-bottom-color: var(--fill-color);\n",
              "    animation:\n",
              "      spin 1s steps(1) infinite;\n",
              "  }\n",
              "\n",
              "  @keyframes spin {\n",
              "    0% {\n",
              "      border-color: transparent;\n",
              "      border-bottom-color: var(--fill-color);\n",
              "      border-left-color: var(--fill-color);\n",
              "    }\n",
              "    20% {\n",
              "      border-color: transparent;\n",
              "      border-left-color: var(--fill-color);\n",
              "      border-top-color: var(--fill-color);\n",
              "    }\n",
              "    30% {\n",
              "      border-color: transparent;\n",
              "      border-left-color: var(--fill-color);\n",
              "      border-top-color: var(--fill-color);\n",
              "      border-right-color: var(--fill-color);\n",
              "    }\n",
              "    40% {\n",
              "      border-color: transparent;\n",
              "      border-right-color: var(--fill-color);\n",
              "      border-top-color: var(--fill-color);\n",
              "    }\n",
              "    60% {\n",
              "      border-color: transparent;\n",
              "      border-right-color: var(--fill-color);\n",
              "    }\n",
              "    80% {\n",
              "      border-color: transparent;\n",
              "      border-right-color: var(--fill-color);\n",
              "      border-bottom-color: var(--fill-color);\n",
              "    }\n",
              "    90% {\n",
              "      border-color: transparent;\n",
              "      border-bottom-color: var(--fill-color);\n",
              "    }\n",
              "  }\n",
              "</style>\n",
              "\n",
              "      <script>\n",
              "        async function quickchart(key) {\n",
              "          const quickchartButtonEl =\n",
              "            document.querySelector('#' + key + ' button');\n",
              "          quickchartButtonEl.disabled = true;  // To prevent multiple clicks.\n",
              "          quickchartButtonEl.classList.add('colab-df-spinner');\n",
              "          try {\n",
              "            const charts = await google.colab.kernel.invokeFunction(\n",
              "                'suggestCharts', [key], {});\n",
              "          } catch (error) {\n",
              "            console.error('Error during call to suggestCharts:', error);\n",
              "          }\n",
              "          quickchartButtonEl.classList.remove('colab-df-spinner');\n",
              "          quickchartButtonEl.classList.add('colab-df-quickchart-complete');\n",
              "        }\n",
              "        (() => {\n",
              "          let quickchartButtonEl =\n",
              "            document.querySelector('#df-26898f90-71fc-4272-99a1-024bb34ea649 button');\n",
              "          quickchartButtonEl.style.display =\n",
              "            google.colab.kernel.accessAllowed ? 'block' : 'none';\n",
              "        })();\n",
              "      </script>\n",
              "    </div>\n",
              "\n",
              "    </div>\n",
              "  </div>\n"
            ],
            "application/vnd.google.colaboratory.intrinsic+json": {
              "type": "dataframe",
              "variable_name": "df",
              "summary": "{\n  \"name\": \"df\",\n  \"rows\": 5000,\n  \"fields\": [\n    {\n      \"column\": \"age\",\n      \"properties\": {\n        \"dtype\": \"number\",\n        \"std\": 15,\n        \"min\": 18,\n        \"max\": 70,\n        \"num_unique_values\": 53,\n        \"samples\": [\n          55,\n          41,\n          33\n        ],\n        \"semantic_type\": \"\",\n        \"description\": \"\"\n      }\n    },\n    {\n      \"column\": \"gender\",\n      \"properties\": {\n        \"dtype\": \"category\",\n        \"num_unique_values\": 3,\n        \"samples\": [\n          \"Other\",\n          \"Female\",\n          \"Male\"\n        ],\n        \"semantic_type\": \"\",\n        \"description\": \"\"\n      }\n    },\n    {\n      \"column\": \"subscription_type\",\n      \"properties\": {\n        \"dtype\": \"category\",\n        \"num_unique_values\": 3,\n        \"samples\": [\n          \"Basic\",\n          \"Standard\",\n          \"Premium\"\n        ],\n        \"semantic_type\": \"\",\n        \"description\": \"\"\n      }\n    },\n    {\n      \"column\": \"watch_hours\",\n      \"properties\": {\n        \"dtype\": \"number\",\n        \"std\": 12.014653647024184,\n        \"min\": 0.01,\n        \"max\": 110.4,\n        \"num_unique_values\": 2343,\n        \"samples\": [\n          6.71,\n          5.11,\n          1.22\n        ],\n        \"semantic_type\": \"\",\n        \"description\": \"\"\n      }\n    },\n    {\n      \"column\": \"last_login_days\",\n      \"properties\": {\n        \"dtype\": \"number\",\n        \"std\": 17,\n        \"min\": 0,\n        \"max\": 60,\n        \"num_unique_values\": 61,\n        \"samples\": [\n          29,\n          26,\n          2\n        ],\n        \"semantic_type\": \"\",\n        \"description\": \"\"\n      }\n    },\n    {\n      \"column\": \"region\",\n      \"properties\": {\n        \"dtype\": \"category\",\n        \"num_unique_values\": 6,\n        \"samples\": [\n          \"Africa\",\n          \"Europe\",\n          \"North America\"\n        ],\n        \"semantic_type\": \"\",\n        \"description\": \"\"\n      }\n    },\n    {\n      \"column\": \"device\",\n      \"properties\": {\n        \"dtype\": \"category\",\n        \"num_unique_values\": 5,\n        \"samples\": [\n          \"Mobile\",\n          \"Tablet\",\n          \"Laptop\"\n        ],\n        \"semantic_type\": \"\",\n        \"description\": \"\"\n      }\n    },\n    {\n      \"column\": \"monthly_fee\",\n      \"properties\": {\n        \"dtype\": \"number\",\n        \"std\": 3.69206212089409,\n        \"min\": 8.99,\n        \"max\": 17.99,\n        \"num_unique_values\": 3,\n        \"samples\": [\n          8.99,\n          13.99,\n          17.99\n        ],\n        \"semantic_type\": \"\",\n        \"description\": \"\"\n      }\n    },\n    {\n      \"column\": \"churned\",\n      \"properties\": {\n        \"dtype\": \"number\",\n        \"std\": 0,\n        \"min\": 0,\n        \"max\": 1,\n        \"num_unique_values\": 2,\n        \"samples\": [\n          0,\n          1\n        ],\n        \"semantic_type\": \"\",\n        \"description\": \"\"\n      }\n    },\n    {\n      \"column\": \"payment_method\",\n      \"properties\": {\n        \"dtype\": \"category\",\n        \"num_unique_values\": 5,\n        \"samples\": [\n          \"Crypto\",\n          \"Credit Card\"\n        ],\n        \"semantic_type\": \"\",\n        \"description\": \"\"\n      }\n    },\n    {\n      \"column\": \"number_of_profiles\",\n      \"properties\": {\n        \"dtype\": \"number\",\n        \"std\": 1,\n        \"min\": 1,\n        \"max\": 5,\n        \"num_unique_values\": 5,\n        \"samples\": [\n          5,\n          4\n        ],\n        \"semantic_type\": \"\",\n        \"description\": \"\"\n      }\n    },\n    {\n      \"column\": \"avg_watch_time_per_day\",\n      \"properties\": {\n        \"dtype\": \"number\",\n        \"std\": 2.619824325388844,\n        \"min\": 0.0,\n        \"max\": 98.42,\n        \"num_unique_values\": 505,\n        \"samples\": [\n          11.75,\n          1.51\n        ],\n        \"semantic_type\": \"\",\n        \"description\": \"\"\n      }\n    },\n    {\n      \"column\": \"favorite_genre\",\n      \"properties\": {\n        \"dtype\": \"category\",\n        \"num_unique_values\": 7,\n        \"samples\": [\n          \"Action\",\n          \"Sci-Fi\"\n        ],\n        \"semantic_type\": \"\",\n        \"description\": \"\"\n      }\n    }\n  ]\n}"
            }
          },
          "metadata": {},
          "execution_count": 29
        }
      ]
    },
    {
      "cell_type": "code",
      "source": [
        "# identifying columns with object data type\n",
        "object_columns = df.select_dtypes(include=\"object\").columns\n",
        "print(object_columns)"
      ],
      "metadata": {
        "colab": {
          "base_uri": "https://localhost:8080/"
        },
        "id": "M2D_P5fE-jqF",
        "outputId": "777ed142-baaa-433f-8b79-69ff7a076364"
      },
      "execution_count": 30,
      "outputs": [
        {
          "output_type": "stream",
          "name": "stdout",
          "text": [
            "Index(['gender', 'subscription_type', 'region', 'device', 'payment_method',\n",
            "       'favorite_genre'],\n",
            "      dtype='object')\n"
          ]
        }
      ]
    },
    {
      "cell_type": "code",
      "source": [
        "# initialize a dictionary to save the encoders\n",
        "encoders = {}\n",
        "\n",
        "# apply label encoding and store the encoders\n",
        "for column in object_columns:\n",
        "  label_encoder = LabelEncoder()\n",
        "  df[column] = label_encoder.fit_transform(df[column])\n",
        "  encoders[column] = label_encoder\n",
        "\n",
        "\n",
        "# save the encoders to a pickle file\n",
        "with open(\"encoders.pkl\", \"wb\") as f:\n",
        "  pickle.dump(encoders, f)"
      ],
      "metadata": {
        "id": "RYs7jnoSApBE"
      },
      "execution_count": 31,
      "outputs": []
    },
    {
      "cell_type": "code",
      "source": [
        "encoders"
      ],
      "metadata": {
        "colab": {
          "base_uri": "https://localhost:8080/"
        },
        "id": "1NAbRg4vAtuj",
        "outputId": "52493d3b-0c6a-47b0-ce22-5cdc5c8e3f5e"
      },
      "execution_count": 32,
      "outputs": [
        {
          "output_type": "execute_result",
          "data": {
            "text/plain": [
              "{'gender': LabelEncoder(),\n",
              " 'subscription_type': LabelEncoder(),\n",
              " 'region': LabelEncoder(),\n",
              " 'device': LabelEncoder(),\n",
              " 'payment_method': LabelEncoder(),\n",
              " 'favorite_genre': LabelEncoder()}"
            ]
          },
          "metadata": {},
          "execution_count": 32
        }
      ]
    },
    {
      "cell_type": "code",
      "source": [
        "df.head()"
      ],
      "metadata": {
        "colab": {
          "base_uri": "https://localhost:8080/",
          "height": 226
        },
        "id": "HVClnBd3Axn-",
        "outputId": "18e21cea-def4-4b5b-e38a-7bce92857e2f"
      },
      "execution_count": 33,
      "outputs": [
        {
          "output_type": "execute_result",
          "data": {
            "text/plain": [
              "   age  gender  subscription_type  watch_hours  last_login_days  region  \\\n",
              "0   51       2                  0        14.73               29       0   \n",
              "1   47       2                  2         0.70               19       2   \n",
              "2   27       0                  2        16.32               10       1   \n",
              "3   53       2                  1         4.51               12       4   \n",
              "4   56       2                  2         1.89               13       0   \n",
              "\n",
              "   device  monthly_fee  churned  payment_method  number_of_profiles  \\\n",
              "0       3         8.99        1               3                   1   \n",
              "1       2        13.99        1               3                   5   \n",
              "2       3        13.99        0               1                   2   \n",
              "3       3        17.99        1               1                   2   \n",
              "4       2        13.99        1               1                   2   \n",
              "\n",
              "   avg_watch_time_per_day  favorite_genre  \n",
              "0                    0.49               0  \n",
              "1                    0.03               6  \n",
              "2                    1.48               3  \n",
              "3                    0.35               4  \n",
              "4                    0.13               0  "
            ],
            "text/html": [
              "\n",
              "  <div id=\"df-077eb023-44ba-44d5-9908-d5d25bf8aaf5\" class=\"colab-df-container\">\n",
              "    <div>\n",
              "<style scoped>\n",
              "    .dataframe tbody tr th:only-of-type {\n",
              "        vertical-align: middle;\n",
              "    }\n",
              "\n",
              "    .dataframe tbody tr th {\n",
              "        vertical-align: top;\n",
              "    }\n",
              "\n",
              "    .dataframe thead th {\n",
              "        text-align: right;\n",
              "    }\n",
              "</style>\n",
              "<table border=\"1\" class=\"dataframe\">\n",
              "  <thead>\n",
              "    <tr style=\"text-align: right;\">\n",
              "      <th></th>\n",
              "      <th>age</th>\n",
              "      <th>gender</th>\n",
              "      <th>subscription_type</th>\n",
              "      <th>watch_hours</th>\n",
              "      <th>last_login_days</th>\n",
              "      <th>region</th>\n",
              "      <th>device</th>\n",
              "      <th>monthly_fee</th>\n",
              "      <th>churned</th>\n",
              "      <th>payment_method</th>\n",
              "      <th>number_of_profiles</th>\n",
              "      <th>avg_watch_time_per_day</th>\n",
              "      <th>favorite_genre</th>\n",
              "    </tr>\n",
              "  </thead>\n",
              "  <tbody>\n",
              "    <tr>\n",
              "      <th>0</th>\n",
              "      <td>51</td>\n",
              "      <td>2</td>\n",
              "      <td>0</td>\n",
              "      <td>14.73</td>\n",
              "      <td>29</td>\n",
              "      <td>0</td>\n",
              "      <td>3</td>\n",
              "      <td>8.99</td>\n",
              "      <td>1</td>\n",
              "      <td>3</td>\n",
              "      <td>1</td>\n",
              "      <td>0.49</td>\n",
              "      <td>0</td>\n",
              "    </tr>\n",
              "    <tr>\n",
              "      <th>1</th>\n",
              "      <td>47</td>\n",
              "      <td>2</td>\n",
              "      <td>2</td>\n",
              "      <td>0.70</td>\n",
              "      <td>19</td>\n",
              "      <td>2</td>\n",
              "      <td>2</td>\n",
              "      <td>13.99</td>\n",
              "      <td>1</td>\n",
              "      <td>3</td>\n",
              "      <td>5</td>\n",
              "      <td>0.03</td>\n",
              "      <td>6</td>\n",
              "    </tr>\n",
              "    <tr>\n",
              "      <th>2</th>\n",
              "      <td>27</td>\n",
              "      <td>0</td>\n",
              "      <td>2</td>\n",
              "      <td>16.32</td>\n",
              "      <td>10</td>\n",
              "      <td>1</td>\n",
              "      <td>3</td>\n",
              "      <td>13.99</td>\n",
              "      <td>0</td>\n",
              "      <td>1</td>\n",
              "      <td>2</td>\n",
              "      <td>1.48</td>\n",
              "      <td>3</td>\n",
              "    </tr>\n",
              "    <tr>\n",
              "      <th>3</th>\n",
              "      <td>53</td>\n",
              "      <td>2</td>\n",
              "      <td>1</td>\n",
              "      <td>4.51</td>\n",
              "      <td>12</td>\n",
              "      <td>4</td>\n",
              "      <td>3</td>\n",
              "      <td>17.99</td>\n",
              "      <td>1</td>\n",
              "      <td>1</td>\n",
              "      <td>2</td>\n",
              "      <td>0.35</td>\n",
              "      <td>4</td>\n",
              "    </tr>\n",
              "    <tr>\n",
              "      <th>4</th>\n",
              "      <td>56</td>\n",
              "      <td>2</td>\n",
              "      <td>2</td>\n",
              "      <td>1.89</td>\n",
              "      <td>13</td>\n",
              "      <td>0</td>\n",
              "      <td>2</td>\n",
              "      <td>13.99</td>\n",
              "      <td>1</td>\n",
              "      <td>1</td>\n",
              "      <td>2</td>\n",
              "      <td>0.13</td>\n",
              "      <td>0</td>\n",
              "    </tr>\n",
              "  </tbody>\n",
              "</table>\n",
              "</div>\n",
              "    <div class=\"colab-df-buttons\">\n",
              "\n",
              "  <div class=\"colab-df-container\">\n",
              "    <button class=\"colab-df-convert\" onclick=\"convertToInteractive('df-077eb023-44ba-44d5-9908-d5d25bf8aaf5')\"\n",
              "            title=\"Convert this dataframe to an interactive table.\"\n",
              "            style=\"display:none;\">\n",
              "\n",
              "  <svg xmlns=\"http://www.w3.org/2000/svg\" height=\"24px\" viewBox=\"0 -960 960 960\">\n",
              "    <path d=\"M120-120v-720h720v720H120Zm60-500h600v-160H180v160Zm220 220h160v-160H400v160Zm0 220h160v-160H400v160ZM180-400h160v-160H180v160Zm440 0h160v-160H620v160ZM180-180h160v-160H180v160Zm440 0h160v-160H620v160Z\"/>\n",
              "  </svg>\n",
              "    </button>\n",
              "\n",
              "  <style>\n",
              "    .colab-df-container {\n",
              "      display:flex;\n",
              "      gap: 12px;\n",
              "    }\n",
              "\n",
              "    .colab-df-convert {\n",
              "      background-color: #E8F0FE;\n",
              "      border: none;\n",
              "      border-radius: 50%;\n",
              "      cursor: pointer;\n",
              "      display: none;\n",
              "      fill: #1967D2;\n",
              "      height: 32px;\n",
              "      padding: 0 0 0 0;\n",
              "      width: 32px;\n",
              "    }\n",
              "\n",
              "    .colab-df-convert:hover {\n",
              "      background-color: #E2EBFA;\n",
              "      box-shadow: 0px 1px 2px rgba(60, 64, 67, 0.3), 0px 1px 3px 1px rgba(60, 64, 67, 0.15);\n",
              "      fill: #174EA6;\n",
              "    }\n",
              "\n",
              "    .colab-df-buttons div {\n",
              "      margin-bottom: 4px;\n",
              "    }\n",
              "\n",
              "    [theme=dark] .colab-df-convert {\n",
              "      background-color: #3B4455;\n",
              "      fill: #D2E3FC;\n",
              "    }\n",
              "\n",
              "    [theme=dark] .colab-df-convert:hover {\n",
              "      background-color: #434B5C;\n",
              "      box-shadow: 0px 1px 3px 1px rgba(0, 0, 0, 0.15);\n",
              "      filter: drop-shadow(0px 1px 2px rgba(0, 0, 0, 0.3));\n",
              "      fill: #FFFFFF;\n",
              "    }\n",
              "  </style>\n",
              "\n",
              "    <script>\n",
              "      const buttonEl =\n",
              "        document.querySelector('#df-077eb023-44ba-44d5-9908-d5d25bf8aaf5 button.colab-df-convert');\n",
              "      buttonEl.style.display =\n",
              "        google.colab.kernel.accessAllowed ? 'block' : 'none';\n",
              "\n",
              "      async function convertToInteractive(key) {\n",
              "        const element = document.querySelector('#df-077eb023-44ba-44d5-9908-d5d25bf8aaf5');\n",
              "        const dataTable =\n",
              "          await google.colab.kernel.invokeFunction('convertToInteractive',\n",
              "                                                    [key], {});\n",
              "        if (!dataTable) return;\n",
              "\n",
              "        const docLinkHtml = 'Like what you see? Visit the ' +\n",
              "          '<a target=\"_blank\" href=https://colab.research.google.com/notebooks/data_table.ipynb>data table notebook</a>'\n",
              "          + ' to learn more about interactive tables.';\n",
              "        element.innerHTML = '';\n",
              "        dataTable['output_type'] = 'display_data';\n",
              "        await google.colab.output.renderOutput(dataTable, element);\n",
              "        const docLink = document.createElement('div');\n",
              "        docLink.innerHTML = docLinkHtml;\n",
              "        element.appendChild(docLink);\n",
              "      }\n",
              "    </script>\n",
              "  </div>\n",
              "\n",
              "\n",
              "    <div id=\"df-0fb79586-c9a5-45d2-b458-c2a35ca6988b\">\n",
              "      <button class=\"colab-df-quickchart\" onclick=\"quickchart('df-0fb79586-c9a5-45d2-b458-c2a35ca6988b')\"\n",
              "                title=\"Suggest charts\"\n",
              "                style=\"display:none;\">\n",
              "\n",
              "<svg xmlns=\"http://www.w3.org/2000/svg\" height=\"24px\"viewBox=\"0 0 24 24\"\n",
              "     width=\"24px\">\n",
              "    <g>\n",
              "        <path d=\"M19 3H5c-1.1 0-2 .9-2 2v14c0 1.1.9 2 2 2h14c1.1 0 2-.9 2-2V5c0-1.1-.9-2-2-2zM9 17H7v-7h2v7zm4 0h-2V7h2v10zm4 0h-2v-4h2v4z\"/>\n",
              "    </g>\n",
              "</svg>\n",
              "      </button>\n",
              "\n",
              "<style>\n",
              "  .colab-df-quickchart {\n",
              "      --bg-color: #E8F0FE;\n",
              "      --fill-color: #1967D2;\n",
              "      --hover-bg-color: #E2EBFA;\n",
              "      --hover-fill-color: #174EA6;\n",
              "      --disabled-fill-color: #AAA;\n",
              "      --disabled-bg-color: #DDD;\n",
              "  }\n",
              "\n",
              "  [theme=dark] .colab-df-quickchart {\n",
              "      --bg-color: #3B4455;\n",
              "      --fill-color: #D2E3FC;\n",
              "      --hover-bg-color: #434B5C;\n",
              "      --hover-fill-color: #FFFFFF;\n",
              "      --disabled-bg-color: #3B4455;\n",
              "      --disabled-fill-color: #666;\n",
              "  }\n",
              "\n",
              "  .colab-df-quickchart {\n",
              "    background-color: var(--bg-color);\n",
              "    border: none;\n",
              "    border-radius: 50%;\n",
              "    cursor: pointer;\n",
              "    display: none;\n",
              "    fill: var(--fill-color);\n",
              "    height: 32px;\n",
              "    padding: 0;\n",
              "    width: 32px;\n",
              "  }\n",
              "\n",
              "  .colab-df-quickchart:hover {\n",
              "    background-color: var(--hover-bg-color);\n",
              "    box-shadow: 0 1px 2px rgba(60, 64, 67, 0.3), 0 1px 3px 1px rgba(60, 64, 67, 0.15);\n",
              "    fill: var(--button-hover-fill-color);\n",
              "  }\n",
              "\n",
              "  .colab-df-quickchart-complete:disabled,\n",
              "  .colab-df-quickchart-complete:disabled:hover {\n",
              "    background-color: var(--disabled-bg-color);\n",
              "    fill: var(--disabled-fill-color);\n",
              "    box-shadow: none;\n",
              "  }\n",
              "\n",
              "  .colab-df-spinner {\n",
              "    border: 2px solid var(--fill-color);\n",
              "    border-color: transparent;\n",
              "    border-bottom-color: var(--fill-color);\n",
              "    animation:\n",
              "      spin 1s steps(1) infinite;\n",
              "  }\n",
              "\n",
              "  @keyframes spin {\n",
              "    0% {\n",
              "      border-color: transparent;\n",
              "      border-bottom-color: var(--fill-color);\n",
              "      border-left-color: var(--fill-color);\n",
              "    }\n",
              "    20% {\n",
              "      border-color: transparent;\n",
              "      border-left-color: var(--fill-color);\n",
              "      border-top-color: var(--fill-color);\n",
              "    }\n",
              "    30% {\n",
              "      border-color: transparent;\n",
              "      border-left-color: var(--fill-color);\n",
              "      border-top-color: var(--fill-color);\n",
              "      border-right-color: var(--fill-color);\n",
              "    }\n",
              "    40% {\n",
              "      border-color: transparent;\n",
              "      border-right-color: var(--fill-color);\n",
              "      border-top-color: var(--fill-color);\n",
              "    }\n",
              "    60% {\n",
              "      border-color: transparent;\n",
              "      border-right-color: var(--fill-color);\n",
              "    }\n",
              "    80% {\n",
              "      border-color: transparent;\n",
              "      border-right-color: var(--fill-color);\n",
              "      border-bottom-color: var(--fill-color);\n",
              "    }\n",
              "    90% {\n",
              "      border-color: transparent;\n",
              "      border-bottom-color: var(--fill-color);\n",
              "    }\n",
              "  }\n",
              "</style>\n",
              "\n",
              "      <script>\n",
              "        async function quickchart(key) {\n",
              "          const quickchartButtonEl =\n",
              "            document.querySelector('#' + key + ' button');\n",
              "          quickchartButtonEl.disabled = true;  // To prevent multiple clicks.\n",
              "          quickchartButtonEl.classList.add('colab-df-spinner');\n",
              "          try {\n",
              "            const charts = await google.colab.kernel.invokeFunction(\n",
              "                'suggestCharts', [key], {});\n",
              "          } catch (error) {\n",
              "            console.error('Error during call to suggestCharts:', error);\n",
              "          }\n",
              "          quickchartButtonEl.classList.remove('colab-df-spinner');\n",
              "          quickchartButtonEl.classList.add('colab-df-quickchart-complete');\n",
              "        }\n",
              "        (() => {\n",
              "          let quickchartButtonEl =\n",
              "            document.querySelector('#df-0fb79586-c9a5-45d2-b458-c2a35ca6988b button');\n",
              "          quickchartButtonEl.style.display =\n",
              "            google.colab.kernel.accessAllowed ? 'block' : 'none';\n",
              "        })();\n",
              "      </script>\n",
              "    </div>\n",
              "\n",
              "    </div>\n",
              "  </div>\n"
            ],
            "application/vnd.google.colaboratory.intrinsic+json": {
              "type": "dataframe",
              "variable_name": "df",
              "summary": "{\n  \"name\": \"df\",\n  \"rows\": 5000,\n  \"fields\": [\n    {\n      \"column\": \"age\",\n      \"properties\": {\n        \"dtype\": \"number\",\n        \"std\": 15,\n        \"min\": 18,\n        \"max\": 70,\n        \"num_unique_values\": 53,\n        \"samples\": [\n          55,\n          41,\n          33\n        ],\n        \"semantic_type\": \"\",\n        \"description\": \"\"\n      }\n    },\n    {\n      \"column\": \"gender\",\n      \"properties\": {\n        \"dtype\": \"number\",\n        \"std\": 0,\n        \"min\": 0,\n        \"max\": 2,\n        \"num_unique_values\": 3,\n        \"samples\": [\n          2,\n          0,\n          1\n        ],\n        \"semantic_type\": \"\",\n        \"description\": \"\"\n      }\n    },\n    {\n      \"column\": \"subscription_type\",\n      \"properties\": {\n        \"dtype\": \"number\",\n        \"std\": 0,\n        \"min\": 0,\n        \"max\": 2,\n        \"num_unique_values\": 3,\n        \"samples\": [\n          0,\n          2,\n          1\n        ],\n        \"semantic_type\": \"\",\n        \"description\": \"\"\n      }\n    },\n    {\n      \"column\": \"watch_hours\",\n      \"properties\": {\n        \"dtype\": \"number\",\n        \"std\": 12.014653647024184,\n        \"min\": 0.01,\n        \"max\": 110.4,\n        \"num_unique_values\": 2343,\n        \"samples\": [\n          6.71,\n          5.11,\n          1.22\n        ],\n        \"semantic_type\": \"\",\n        \"description\": \"\"\n      }\n    },\n    {\n      \"column\": \"last_login_days\",\n      \"properties\": {\n        \"dtype\": \"number\",\n        \"std\": 17,\n        \"min\": 0,\n        \"max\": 60,\n        \"num_unique_values\": 61,\n        \"samples\": [\n          29,\n          26,\n          2\n        ],\n        \"semantic_type\": \"\",\n        \"description\": \"\"\n      }\n    },\n    {\n      \"column\": \"region\",\n      \"properties\": {\n        \"dtype\": \"number\",\n        \"std\": 1,\n        \"min\": 0,\n        \"max\": 5,\n        \"num_unique_values\": 6,\n        \"samples\": [\n          0,\n          2,\n          3\n        ],\n        \"semantic_type\": \"\",\n        \"description\": \"\"\n      }\n    },\n    {\n      \"column\": \"device\",\n      \"properties\": {\n        \"dtype\": \"number\",\n        \"std\": 1,\n        \"min\": 0,\n        \"max\": 4,\n        \"num_unique_values\": 5,\n        \"samples\": [\n          2,\n          4,\n          1\n        ],\n        \"semantic_type\": \"\",\n        \"description\": \"\"\n      }\n    },\n    {\n      \"column\": \"monthly_fee\",\n      \"properties\": {\n        \"dtype\": \"number\",\n        \"std\": 3.69206212089409,\n        \"min\": 8.99,\n        \"max\": 17.99,\n        \"num_unique_values\": 3,\n        \"samples\": [\n          8.99,\n          13.99,\n          17.99\n        ],\n        \"semantic_type\": \"\",\n        \"description\": \"\"\n      }\n    },\n    {\n      \"column\": \"churned\",\n      \"properties\": {\n        \"dtype\": \"number\",\n        \"std\": 0,\n        \"min\": 0,\n        \"max\": 1,\n        \"num_unique_values\": 2,\n        \"samples\": [\n          0,\n          1\n        ],\n        \"semantic_type\": \"\",\n        \"description\": \"\"\n      }\n    },\n    {\n      \"column\": \"payment_method\",\n      \"properties\": {\n        \"dtype\": \"number\",\n        \"std\": 1,\n        \"min\": 0,\n        \"max\": 4,\n        \"num_unique_values\": 5,\n        \"samples\": [\n          1,\n          0\n        ],\n        \"semantic_type\": \"\",\n        \"description\": \"\"\n      }\n    },\n    {\n      \"column\": \"number_of_profiles\",\n      \"properties\": {\n        \"dtype\": \"number\",\n        \"std\": 1,\n        \"min\": 1,\n        \"max\": 5,\n        \"num_unique_values\": 5,\n        \"samples\": [\n          5,\n          4\n        ],\n        \"semantic_type\": \"\",\n        \"description\": \"\"\n      }\n    },\n    {\n      \"column\": \"avg_watch_time_per_day\",\n      \"properties\": {\n        \"dtype\": \"number\",\n        \"std\": 2.619824325388844,\n        \"min\": 0.0,\n        \"max\": 98.42,\n        \"num_unique_values\": 505,\n        \"samples\": [\n          11.75,\n          1.51\n        ],\n        \"semantic_type\": \"\",\n        \"description\": \"\"\n      }\n    },\n    {\n      \"column\": \"favorite_genre\",\n      \"properties\": {\n        \"dtype\": \"number\",\n        \"std\": 1,\n        \"min\": 0,\n        \"max\": 6,\n        \"num_unique_values\": 7,\n        \"samples\": [\n          0,\n          6\n        ],\n        \"semantic_type\": \"\",\n        \"description\": \"\"\n      }\n    }\n  ]\n}"
            }
          },
          "metadata": {},
          "execution_count": 33
        }
      ]
    },
    {
      "cell_type": "markdown",
      "source": [
        "{\n",
        "  'gender': {'Female': 0, 'Male': 1, 'Other': 2},\n",
        "\n",
        "  'device': {'Desktop': 0, 'Laptop': 1, 'Mobile':2, 'TV':3, 'Tablet':4},\n",
        "\n",
        "  'subscription_type' : {'Basic':0, 'Standard':1, 'Premium':2},\n",
        "\n",
        "  'region' : {'Africa':0,'Asia':1,'Europe':2,'North America':3,'Oceania':4,'South America':5},\n",
        "\n",
        "  'payment_method; : {'Credit card':0, 'Crypto':1, 'Debit card':2, 'Gift card':3, 'Paypal':4},\n",
        "  \n",
        "  'genre' : {'Action':0, 'Comedy':1, 'Documentary':2, 'Drama': 3, 'Horror':4, 'Romance':5, 'Sci-Fi':6}\n",
        "}\n"
      ],
      "metadata": {
        "id": "0WVqD2SZA9n9"
      }
    },
    {
      "cell_type": "code",
      "source": [
        "#train-test split\n",
        "#splitting feature and target\n",
        "y = df[\"churned\"]\n",
        "X = df.drop(columns=[\"churned\"])"
      ],
      "metadata": {
        "id": "j1AcdwxAaNLY"
      },
      "execution_count": 34,
      "outputs": []
    },
    {
      "cell_type": "code",
      "source": [
        "# split training and test data\n",
        "X_train, X_test, y_train, y_test = train_test_split(X, y, test_size=0.2, random_state=42)"
      ],
      "metadata": {
        "id": "Gv8TQnEhcYES"
      },
      "execution_count": 35,
      "outputs": []
    },
    {
      "cell_type": "code",
      "source": [
        "print(y_train.shape)"
      ],
      "metadata": {
        "colab": {
          "base_uri": "https://localhost:8080/"
        },
        "id": "hfrXpAAoaNHc",
        "outputId": "c1914545-1064-4763-ad50-3ad59dafdad7"
      },
      "execution_count": 36,
      "outputs": [
        {
          "output_type": "stream",
          "name": "stdout",
          "text": [
            "(4000,)\n"
          ]
        }
      ]
    },
    {
      "cell_type": "code",
      "source": [
        "print(y_train.value_counts())"
      ],
      "metadata": {
        "colab": {
          "base_uri": "https://localhost:8080/"
        },
        "id": "nGdMtRbfaNFK",
        "outputId": "7458a32c-7bf3-4444-cf7c-93c37c2eae5b"
      },
      "execution_count": 37,
      "outputs": [
        {
          "output_type": "stream",
          "name": "stdout",
          "text": [
            "churned\n",
            "1    2013\n",
            "0    1987\n",
            "Name: count, dtype: int64\n"
          ]
        }
      ]
    },
    {
      "cell_type": "code",
      "source": [
        "#no need of SMOTE as of now as the split seems close to symmetrical"
      ],
      "metadata": {
        "id": "NLVe_ZXUaNCE"
      },
      "execution_count": null,
      "outputs": []
    },
    {
      "cell_type": "code",
      "source": [
        "#model training\n",
        "#dictionary of different models\n",
        "# dictionary of models\n",
        "models = {\n",
        "    \"Decision Tree\": DecisionTreeClassifier(random_state=42),\n",
        "    \"Random Forest\": RandomForestClassifier(random_state=42),\n",
        "    \"XGBoost\": XGBClassifier(random_state=42)\n",
        "}"
      ],
      "metadata": {
        "id": "lSEXyDyjaM_j"
      },
      "execution_count": 38,
      "outputs": []
    },
    {
      "cell_type": "code",
      "source": [
        "# dictionary to store the cross validation results\n",
        "cv_scores = {}\n",
        "\n",
        "# perform 5-fold cross validation for each model\n",
        "for model_name, model in models.items():\n",
        "  print(f\"Training {model_name} with default parameters\")\n",
        "  scores = cross_val_score(model, X_train, y_train, cv=5, scoring=\"accuracy\")\n",
        "  cv_scores[model_name] = scores\n",
        "  print(f\"{model_name} cross-validation accuracy: {np.mean(scores):.2f}\")\n",
        "  print(\"-\"*70)"
      ],
      "metadata": {
        "colab": {
          "base_uri": "https://localhost:8080/"
        },
        "id": "QbkHtiUKaM9Z",
        "outputId": "5d4d666e-3596-45d5-8fd6-a7d327907148"
      },
      "execution_count": 39,
      "outputs": [
        {
          "output_type": "stream",
          "name": "stdout",
          "text": [
            "Training Decision Tree with default parameters\n",
            "Decision Tree cross-validation accuracy: 0.97\n",
            "----------------------------------------------------------------------\n",
            "Training Random Forest with default parameters\n",
            "Random Forest cross-validation accuracy: 0.96\n",
            "----------------------------------------------------------------------\n",
            "Training XGBoost with default parameters\n",
            "XGBoost cross-validation accuracy: 0.99\n",
            "----------------------------------------------------------------------\n"
          ]
        }
      ]
    },
    {
      "cell_type": "code",
      "source": [
        "cv_scores"
      ],
      "metadata": {
        "colab": {
          "base_uri": "https://localhost:8080/"
        },
        "id": "kr2uJ4kpiCEd",
        "outputId": "955105be-5096-4e2f-9109-f07ae0e4af86"
      },
      "execution_count": 41,
      "outputs": [
        {
          "output_type": "execute_result",
          "data": {
            "text/plain": [
              "{'Decision Tree': array([0.9825 , 0.97   , 0.97625, 0.95625, 0.95875]),\n",
              " 'Random Forest': array([0.97375, 0.9675 , 0.96   , 0.95625, 0.96375]),\n",
              " 'XGBoost': array([0.9925 , 0.99625, 0.9875 , 0.985  , 0.99   ])}"
            ]
          },
          "metadata": {},
          "execution_count": 41
        }
      ]
    },
    {
      "cell_type": "markdown",
      "source": [
        "Evaluating with test data"
      ],
      "metadata": {
        "id": "7qAEqTgnOhzx"
      }
    },
    {
      "cell_type": "code",
      "source": [
        "#initially with xgboost since it has highest accuracy\n",
        "xgb = XGBClassifier(random_state=42, use_label_encoder=False, eval_metric='logloss')\n",
        "xgb.fit(X_train, y_train)\n",
        "y_pred_xgb = xgb.predict(X_test)\n",
        "\n",
        "print(\"\\n=== XGBoost ===\")\n",
        "print(\"Classification Report:\\n\", classification_report(y_test, y_pred_xgb))\n",
        "print(\"Accuracy Score:\\n\", accuracy_score(y_test, y_pred_xgb))\n",
        "print(\"Confusion Matrix:\\n\", confusion_matrix(y_test, y_pred_xgb))"
      ],
      "metadata": {
        "colab": {
          "base_uri": "https://localhost:8080/"
        },
        "id": "NSUafrG7i6L0",
        "outputId": "b31430d7-d454-460b-dea4-5f2bff49ce70"
      },
      "execution_count": 42,
      "outputs": [
        {
          "output_type": "stream",
          "name": "stdout",
          "text": [
            "\n",
            "=== XGBoost ===\n",
            "Classification Report:\n",
            "               precision    recall  f1-score   support\n",
            "\n",
            "           0       0.99      1.00      0.99       498\n",
            "           1       1.00      0.99      1.00       502\n",
            "\n",
            "    accuracy                           0.99      1000\n",
            "   macro avg       1.00      1.00      0.99      1000\n",
            "weighted avg       1.00      0.99      1.00      1000\n",
            "\n",
            "Accuracy Score:\n",
            " 0.995\n",
            "Confusion Matrix:\n",
            " [[497   1]\n",
            " [  4 498]]\n"
          ]
        },
        {
          "output_type": "stream",
          "name": "stderr",
          "text": [
            "/usr/local/lib/python3.11/dist-packages/xgboost/core.py:158: UserWarning: [06:36:55] WARNING: /workspace/src/learner.cc:740: \n",
            "Parameters: { \"use_label_encoder\" } are not used.\n",
            "\n",
            "  warnings.warn(smsg, UserWarning)\n"
          ]
        }
      ]
    },
    {
      "cell_type": "code",
      "source": [
        "#Decision tree classifier\n",
        "dtc = DecisionTreeClassifier(random_state=42)\n",
        "dtc.fit(X_train, y_train)\n",
        "y_pred_dt = dtc.predict(X_test)\n",
        "\n",
        "print(\"\\n=== Decision Tree ===\")\n",
        "print(\"Classification Report:\\n\", classification_report(y_test, y_pred_dt))\n",
        "print(\"Accuracy Score:\\n\", accuracy_score(y_test, y_pred_dt))\n",
        "print(\"Confusion Matrix:\\n\", confusion_matrix(y_test, y_pred_dt))"
      ],
      "metadata": {
        "colab": {
          "base_uri": "https://localhost:8080/"
        },
        "id": "S7p7suUAi6I6",
        "outputId": "f1dcde8d-719e-438e-c774-1690af52fe39"
      },
      "execution_count": 43,
      "outputs": [
        {
          "output_type": "stream",
          "name": "stdout",
          "text": [
            "\n",
            "=== Decision Tree ===\n",
            "Classification Report:\n",
            "               precision    recall  f1-score   support\n",
            "\n",
            "           0       0.98      0.97      0.97       498\n",
            "           1       0.97      0.98      0.97       502\n",
            "\n",
            "    accuracy                           0.97      1000\n",
            "   macro avg       0.97      0.97      0.97      1000\n",
            "weighted avg       0.97      0.97      0.97      1000\n",
            "\n",
            "Accuracy Score:\n",
            " 0.971\n",
            "Confusion Matrix:\n",
            " [[481  17]\n",
            " [ 12 490]]\n"
          ]
        }
      ]
    },
    {
      "cell_type": "code",
      "source": [
        "#Random forest classifier\n",
        "rfc = RandomForestClassifier(random_state=42)\n",
        "rfc.fit(X_train, y_train)\n",
        "y_pred_rf = rfc.predict(X_test)\n",
        "\n",
        "print(\"\\n=== Random Forest ===\")\n",
        "print(\"Classification Report:\\n\", classification_report(y_test, y_pred_rf))\n",
        "print(\"Accuracy Score:\\n\", accuracy_score(y_test, y_pred_rf))\n",
        "print(\"Confusion Matrix:\\n\", confusion_matrix(y_test, y_pred_rf))"
      ],
      "metadata": {
        "colab": {
          "base_uri": "https://localhost:8080/"
        },
        "id": "e5exKuDXi6GZ",
        "outputId": "6b0b32ba-3f8a-4233-c84e-22e5d3a3e799"
      },
      "execution_count": 44,
      "outputs": [
        {
          "output_type": "stream",
          "name": "stdout",
          "text": [
            "\n",
            "=== Random Forest ===\n",
            "Classification Report:\n",
            "               precision    recall  f1-score   support\n",
            "\n",
            "           0       0.97      0.98      0.98       498\n",
            "           1       0.98      0.97      0.98       502\n",
            "\n",
            "    accuracy                           0.98      1000\n",
            "   macro avg       0.98      0.98      0.98      1000\n",
            "weighted avg       0.98      0.98      0.98      1000\n",
            "\n",
            "Accuracy Score:\n",
            " 0.977\n",
            "Confusion Matrix:\n",
            " [[489   9]\n",
            " [ 14 488]]\n"
          ]
        }
      ]
    },
    {
      "cell_type": "markdown",
      "source": [
        "predictive system"
      ],
      "metadata": {
        "id": "5oW31IL8zI9w"
      }
    },
    {
      "cell_type": "code",
      "source": [
        "model_data = {\"model\": rfc, \"features_names\": X.columns.tolist()}\n",
        "with open(\"netflix_customer_churn.pkl\", \"wb\") as f:\n",
        "    pickle.dump(model_data, f)\n",
        "with open(\"netflix_customer_churn.pkl\", \"rb\") as f:\n",
        "    model_data = pickle.load(f)\n",
        "\n",
        "print(type(model_data))\n",
        "print(model_data.keys())\n"
      ],
      "metadata": {
        "colab": {
          "base_uri": "https://localhost:8080/"
        },
        "id": "bjEAk1T1i540",
        "outputId": "c7192d53-0016-44fd-ded9-9ffe4db70941"
      },
      "execution_count": 56,
      "outputs": [
        {
          "output_type": "stream",
          "name": "stdout",
          "text": [
            "<class 'dict'>\n",
            "dict_keys(['model', 'features_names'])\n"
          ]
        }
      ]
    },
    {
      "cell_type": "code",
      "source": [
        "loaded_model = model_data[\"model\"]\n",
        "feature_names = model_data[\"features_names\"]"
      ],
      "metadata": {
        "id": "A23j_L2ii52R"
      },
      "execution_count": 58,
      "outputs": []
    },
    {
      "cell_type": "code",
      "source": [
        "print(feature_names)"
      ],
      "metadata": {
        "colab": {
          "base_uri": "https://localhost:8080/"
        },
        "id": "iYEb-0a3i5z3",
        "outputId": "064e029d-dae0-45f9-e70c-a2b9a4d9ccb4"
      },
      "execution_count": 59,
      "outputs": [
        {
          "output_type": "stream",
          "name": "stdout",
          "text": [
            "['age', 'gender', 'subscription_type', 'watch_hours', 'last_login_days', 'region', 'device', 'monthly_fee', 'payment_method', 'number_of_profiles', 'avg_watch_time_per_day', 'favorite_genre']\n"
          ]
        }
      ]
    },
    {
      "cell_type": "code",
      "source": [
        "new_data = {\n",
        "    'age' : 36,\n",
        "    'gender' : 'Female',\n",
        "    'subscription_type':'Premium',\n",
        "    'watch_hours':17.07,\n",
        "    'last_login_days':6,\n",
        "    'region':'Asia',\n",
        "    'device':'Laptop',\n",
        "    'monthly_fee':13.99,\n",
        "    'payment_method':'Crypto',\n",
        "    'number_of_profiles':5,\n",
        "    'avg_watch_time_per_day':13.17,\n",
        "    'favorite_genre':'Horror'\n",
        "}"
      ],
      "metadata": {
        "id": "QDyOQHAMi5xG"
      },
      "execution_count": 61,
      "outputs": []
    },
    {
      "cell_type": "code",
      "source": [
        "new_data_df = pd.DataFrame([new_data])"
      ],
      "metadata": {
        "id": "dnaju9QQaMwi"
      },
      "execution_count": 62,
      "outputs": []
    },
    {
      "cell_type": "code",
      "source": [
        "with open(\"encoders.pkl\", \"rb\") as f:\n",
        "  encoders = pickle.load(f)"
      ],
      "metadata": {
        "id": "6W6PiUqeaMuQ"
      },
      "execution_count": 63,
      "outputs": []
    },
    {
      "cell_type": "code",
      "source": [
        "# encode categorical features using the saved encoders\n",
        "for column, encoder in encoders.items():\n",
        "  new_data_df[column] = encoder.transform(new_data_df[column])\n",
        "\n",
        "# make a prediction\n",
        "prediction = loaded_model.predict(new_data_df)\n",
        "pred_prob = loaded_model.predict_proba(new_data_df)\n",
        "\n",
        "print(prediction)\n",
        "\n",
        "# results\n",
        "print(f\"Prediction: {'Churn' if prediction[0] == 1 else 'No Churn'}\")\n",
        "print(f\"Prediciton Probability: {pred_prob}\")"
      ],
      "metadata": {
        "colab": {
          "base_uri": "https://localhost:8080/"
        },
        "id": "V2bkGx_RaMqf",
        "outputId": "b0efa374-b01a-4c7d-fac1-12f22f11b3da"
      },
      "execution_count": 64,
      "outputs": [
        {
          "output_type": "stream",
          "name": "stdout",
          "text": [
            "[0]\n",
            "Prediction: No Churn\n",
            "Prediciton Probability: [[1. 0.]]\n"
          ]
        }
      ]
    },
    {
      "cell_type": "code",
      "source": [
        "#in prediction prob list, 1 is the prob of no churn and 0 is the prob of churn"
      ],
      "metadata": {
        "id": "CUpDQcsdaMob"
      },
      "execution_count": null,
      "outputs": []
    }
  ]
}